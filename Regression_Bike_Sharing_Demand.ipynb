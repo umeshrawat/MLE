{
  "nbformat": 4,
  "nbformat_minor": 0,
  "metadata": {
    "colab": {
      "provenance": [],
      "include_colab_link": true
    },
    "kernelspec": {
      "name": "python3",
      "display_name": "Python 3"
    },
    "language_info": {
      "name": "python"
    },
    "gpuClass": "standard"
  },
  "cells": [
    {
      "cell_type": "markdown",
      "metadata": {
        "id": "view-in-github",
        "colab_type": "text"
      },
      "source": [
        "<a href=\"https://colab.research.google.com/github/umeshrawat/MLE/blob/master/Regression_Bike_Sharing_Demand.ipynb\" target=\"_parent\"><img src=\"https://colab.research.google.com/assets/colab-badge.svg\" alt=\"Open In Colab\"/></a>"
      ]
    },
    {
      "cell_type": "markdown",
      "source": [
        "# Import Library"
      ],
      "metadata": {
        "id": "DUFu83jC-fwa"
      }
    },
    {
      "cell_type": "code",
      "source": [
        "import pandas as pd\n",
        "from tqdm import tqdm\n",
        "import seaborn as sns\n",
        "import matplotlib.pyplot as plt\n",
        "import seaborn as sns\n",
        "from sklearn.model_selection import train_test_split\n",
        "from sklearn.linear_model import LogisticRegression\n",
        "from sklearn.metrics import accuracy_score, confusion_matrix, classification_report\n",
        "from sklearn.metrics import precision_score, recall_score, f1_score, roc_auc_score, roc_curve\n",
        "from sklearn.preprocessing import StandardScaler\n",
        "import numpy as np\n",
        "from sklearn.model_selection import train_test_split, GridSearchCV\n",
        "from sklearn.preprocessing import OneHotEncoder\n",
        "from sklearn.linear_model import LinearRegression\n",
        "from sklearn.metrics import mean_squared_error, r2_score, mean_squared_log_error\n",
        "from sklearn.model_selection import KFold\n",
        "pd.set_option('display.max_colwidth', None)\n",
        "import warnings\n",
        "from sklearn.exceptions import ConvergenceWarning\n",
        "warnings.filterwarnings(\"ignore\", category=ConvergenceWarning)"
      ],
      "metadata": {
        "id": "9siZWuC6ANjx"
      },
      "execution_count": null,
      "outputs": []
    },
    {
      "cell_type": "markdown",
      "source": [
        "# Read Data From Google Drive"
      ],
      "metadata": {
        "id": "7mVNM4yo-kNt"
      }
    },
    {
      "cell_type": "code",
      "source": [
        "from google.colab import drive\n",
        "drive.mount('/content/drive', force_remount=True)"
      ],
      "metadata": {
        "colab": {
          "base_uri": "https://localhost:8080/"
        },
        "id": "_pjbWheI_hyQ",
        "outputId": "52e3b245-f706-4ee6-f447-62d52321d28a"
      },
      "execution_count": null,
      "outputs": [
        {
          "output_type": "stream",
          "name": "stdout",
          "text": [
            "Mounted at /content/drive\n"
          ]
        }
      ]
    },
    {
      "cell_type": "code",
      "source": [
        "# Read the Excel file, skipping the first row and using the second row as the header\n",
        "data = pd.read_csv(\"/content/drive/MyDrive/dataset/bike-sharing-demand/train.csv\", header=0)"
      ],
      "metadata": {
        "id": "29MKtbt9_tbl"
      },
      "execution_count": null,
      "outputs": []
    },
    {
      "cell_type": "markdown",
      "source": [
        "Notice here -\n",
        "\n",
        "Casual +   Registered = Count\n",
        "which is not present in the test set , so these 2 features columns can not be used directly"
      ],
      "metadata": {
        "id": "v2h15dfnDzq0"
      }
    },
    {
      "cell_type": "code",
      "source": [
        "data.info()"
      ],
      "metadata": {
        "colab": {
          "base_uri": "https://localhost:8080/"
        },
        "id": "ZJe5dMUvDRtx",
        "outputId": "14cc9ad7-89a0-452e-e0ae-de3e43baf3c2"
      },
      "execution_count": null,
      "outputs": [
        {
          "output_type": "stream",
          "name": "stdout",
          "text": [
            "<class 'pandas.core.frame.DataFrame'>\n",
            "RangeIndex: 10886 entries, 0 to 10885\n",
            "Data columns (total 12 columns):\n",
            " #   Column      Non-Null Count  Dtype  \n",
            "---  ------      --------------  -----  \n",
            " 0   datetime    10886 non-null  object \n",
            " 1   season      10886 non-null  int64  \n",
            " 2   holiday     10886 non-null  int64  \n",
            " 3   workingday  10886 non-null  int64  \n",
            " 4   weather     10886 non-null  int64  \n",
            " 5   temp        10886 non-null  float64\n",
            " 6   atemp       10886 non-null  float64\n",
            " 7   humidity    10886 non-null  int64  \n",
            " 8   windspeed   10886 non-null  float64\n",
            " 9   casual      10886 non-null  int64  \n",
            " 10  registered  10886 non-null  int64  \n",
            " 11  count       10886 non-null  int64  \n",
            "dtypes: float64(3), int64(8), object(1)\n",
            "memory usage: 1020.7+ KB\n"
          ]
        }
      ]
    },
    {
      "cell_type": "markdown",
      "source": [
        "https://www.kaggle.com/competitions/bike-sharing-demand/overview\n",
        "\n",
        "You are provided hourly rental data spanning two years. For this competition, the training set is comprised of the first 19 days of each month, while the test set is the 20th to the end of the month. You must predict the total count of bikes rented during each hour covered by the test set, using only information available prior to the rental period.\n",
        "\n",
        "Data Fields\n",
        "\n",
        "datetime - hourly date + timestamp\n",
        "\n",
        "season -  1 = spring, 2 = summer, 3 = fall, 4 = winter\n",
        "\n",
        "holiday - whether the day is considered a holiday\n",
        "\n",
        "workingday - whether the day is neither a weekend nor holiday\n",
        "\n",
        "weather - 1: Clear, Few clouds, Partly cloudy, Partly cloudy\n",
        "2: Mist + Cloudy, Mist + Broken clouds, Mist + Few clouds, Mist\n",
        "3: Light Snow, Light Rain + Thunderstorm + Scattered clouds, Light Rain + Scattered clouds\n",
        "4: Heavy Rain + Ice Pallets + Thunderstorm + Mist, Snow + Fog\n",
        "\n",
        "temp - temperature in Celsius\n",
        "\n",
        "atemp - \"feels like\" temperature in Celsius\n",
        "\n",
        "humidity - relative humidity\n",
        "\n",
        "windspeed - wind speed\n",
        "\n",
        "casual - number of non-registered user rentals initiated\n",
        "\n",
        "registered - number of registered user rentals initiated\n",
        "\n",
        "count - number of total rentals"
      ],
      "metadata": {
        "id": "GXexmRG3AyK3"
      }
    },
    {
      "cell_type": "code",
      "source": [
        "data"
      ],
      "metadata": {
        "colab": {
          "base_uri": "https://localhost:8080/",
          "height": 424
        },
        "id": "L605MRuZ5pcR",
        "outputId": "a32591e8-07f9-4bb4-8b08-12a10515d2d3"
      },
      "execution_count": null,
      "outputs": [
        {
          "output_type": "execute_result",
          "data": {
            "text/plain": [
              "                  datetime  season  holiday  workingday  weather   temp  \\\n",
              "0      2011-01-01 00:00:00       1        0           0        1   9.84   \n",
              "1      2011-01-01 01:00:00       1        0           0        1   9.02   \n",
              "2      2011-01-01 02:00:00       1        0           0        1   9.02   \n",
              "3      2011-01-01 03:00:00       1        0           0        1   9.84   \n",
              "4      2011-01-01 04:00:00       1        0           0        1   9.84   \n",
              "...                    ...     ...      ...         ...      ...    ...   \n",
              "10881  2012-12-19 19:00:00       4        0           1        1  15.58   \n",
              "10882  2012-12-19 20:00:00       4        0           1        1  14.76   \n",
              "10883  2012-12-19 21:00:00       4        0           1        1  13.94   \n",
              "10884  2012-12-19 22:00:00       4        0           1        1  13.94   \n",
              "10885  2012-12-19 23:00:00       4        0           1        1  13.12   \n",
              "\n",
              "        atemp  humidity  windspeed  casual  registered  count  \n",
              "0      14.395        81     0.0000       3          13     16  \n",
              "1      13.635        80     0.0000       8          32     40  \n",
              "2      13.635        80     0.0000       5          27     32  \n",
              "3      14.395        75     0.0000       3          10     13  \n",
              "4      14.395        75     0.0000       0           1      1  \n",
              "...       ...       ...        ...     ...         ...    ...  \n",
              "10881  19.695        50    26.0027       7         329    336  \n",
              "10882  17.425        57    15.0013      10         231    241  \n",
              "10883  15.910        61    15.0013       4         164    168  \n",
              "10884  17.425        61     6.0032      12         117    129  \n",
              "10885  16.665        66     8.9981       4          84     88  \n",
              "\n",
              "[10886 rows x 12 columns]"
            ],
            "text/html": [
              "\n",
              "  <div id=\"df-d0b084de-d762-4937-9bcb-929d6687d9d5\">\n",
              "    <div class=\"colab-df-container\">\n",
              "      <div>\n",
              "<style scoped>\n",
              "    .dataframe tbody tr th:only-of-type {\n",
              "        vertical-align: middle;\n",
              "    }\n",
              "\n",
              "    .dataframe tbody tr th {\n",
              "        vertical-align: top;\n",
              "    }\n",
              "\n",
              "    .dataframe thead th {\n",
              "        text-align: right;\n",
              "    }\n",
              "</style>\n",
              "<table border=\"1\" class=\"dataframe\">\n",
              "  <thead>\n",
              "    <tr style=\"text-align: right;\">\n",
              "      <th></th>\n",
              "      <th>datetime</th>\n",
              "      <th>season</th>\n",
              "      <th>holiday</th>\n",
              "      <th>workingday</th>\n",
              "      <th>weather</th>\n",
              "      <th>temp</th>\n",
              "      <th>atemp</th>\n",
              "      <th>humidity</th>\n",
              "      <th>windspeed</th>\n",
              "      <th>casual</th>\n",
              "      <th>registered</th>\n",
              "      <th>count</th>\n",
              "    </tr>\n",
              "  </thead>\n",
              "  <tbody>\n",
              "    <tr>\n",
              "      <th>0</th>\n",
              "      <td>2011-01-01 00:00:00</td>\n",
              "      <td>1</td>\n",
              "      <td>0</td>\n",
              "      <td>0</td>\n",
              "      <td>1</td>\n",
              "      <td>9.84</td>\n",
              "      <td>14.395</td>\n",
              "      <td>81</td>\n",
              "      <td>0.0000</td>\n",
              "      <td>3</td>\n",
              "      <td>13</td>\n",
              "      <td>16</td>\n",
              "    </tr>\n",
              "    <tr>\n",
              "      <th>1</th>\n",
              "      <td>2011-01-01 01:00:00</td>\n",
              "      <td>1</td>\n",
              "      <td>0</td>\n",
              "      <td>0</td>\n",
              "      <td>1</td>\n",
              "      <td>9.02</td>\n",
              "      <td>13.635</td>\n",
              "      <td>80</td>\n",
              "      <td>0.0000</td>\n",
              "      <td>8</td>\n",
              "      <td>32</td>\n",
              "      <td>40</td>\n",
              "    </tr>\n",
              "    <tr>\n",
              "      <th>2</th>\n",
              "      <td>2011-01-01 02:00:00</td>\n",
              "      <td>1</td>\n",
              "      <td>0</td>\n",
              "      <td>0</td>\n",
              "      <td>1</td>\n",
              "      <td>9.02</td>\n",
              "      <td>13.635</td>\n",
              "      <td>80</td>\n",
              "      <td>0.0000</td>\n",
              "      <td>5</td>\n",
              "      <td>27</td>\n",
              "      <td>32</td>\n",
              "    </tr>\n",
              "    <tr>\n",
              "      <th>3</th>\n",
              "      <td>2011-01-01 03:00:00</td>\n",
              "      <td>1</td>\n",
              "      <td>0</td>\n",
              "      <td>0</td>\n",
              "      <td>1</td>\n",
              "      <td>9.84</td>\n",
              "      <td>14.395</td>\n",
              "      <td>75</td>\n",
              "      <td>0.0000</td>\n",
              "      <td>3</td>\n",
              "      <td>10</td>\n",
              "      <td>13</td>\n",
              "    </tr>\n",
              "    <tr>\n",
              "      <th>4</th>\n",
              "      <td>2011-01-01 04:00:00</td>\n",
              "      <td>1</td>\n",
              "      <td>0</td>\n",
              "      <td>0</td>\n",
              "      <td>1</td>\n",
              "      <td>9.84</td>\n",
              "      <td>14.395</td>\n",
              "      <td>75</td>\n",
              "      <td>0.0000</td>\n",
              "      <td>0</td>\n",
              "      <td>1</td>\n",
              "      <td>1</td>\n",
              "    </tr>\n",
              "    <tr>\n",
              "      <th>...</th>\n",
              "      <td>...</td>\n",
              "      <td>...</td>\n",
              "      <td>...</td>\n",
              "      <td>...</td>\n",
              "      <td>...</td>\n",
              "      <td>...</td>\n",
              "      <td>...</td>\n",
              "      <td>...</td>\n",
              "      <td>...</td>\n",
              "      <td>...</td>\n",
              "      <td>...</td>\n",
              "      <td>...</td>\n",
              "    </tr>\n",
              "    <tr>\n",
              "      <th>10881</th>\n",
              "      <td>2012-12-19 19:00:00</td>\n",
              "      <td>4</td>\n",
              "      <td>0</td>\n",
              "      <td>1</td>\n",
              "      <td>1</td>\n",
              "      <td>15.58</td>\n",
              "      <td>19.695</td>\n",
              "      <td>50</td>\n",
              "      <td>26.0027</td>\n",
              "      <td>7</td>\n",
              "      <td>329</td>\n",
              "      <td>336</td>\n",
              "    </tr>\n",
              "    <tr>\n",
              "      <th>10882</th>\n",
              "      <td>2012-12-19 20:00:00</td>\n",
              "      <td>4</td>\n",
              "      <td>0</td>\n",
              "      <td>1</td>\n",
              "      <td>1</td>\n",
              "      <td>14.76</td>\n",
              "      <td>17.425</td>\n",
              "      <td>57</td>\n",
              "      <td>15.0013</td>\n",
              "      <td>10</td>\n",
              "      <td>231</td>\n",
              "      <td>241</td>\n",
              "    </tr>\n",
              "    <tr>\n",
              "      <th>10883</th>\n",
              "      <td>2012-12-19 21:00:00</td>\n",
              "      <td>4</td>\n",
              "      <td>0</td>\n",
              "      <td>1</td>\n",
              "      <td>1</td>\n",
              "      <td>13.94</td>\n",
              "      <td>15.910</td>\n",
              "      <td>61</td>\n",
              "      <td>15.0013</td>\n",
              "      <td>4</td>\n",
              "      <td>164</td>\n",
              "      <td>168</td>\n",
              "    </tr>\n",
              "    <tr>\n",
              "      <th>10884</th>\n",
              "      <td>2012-12-19 22:00:00</td>\n",
              "      <td>4</td>\n",
              "      <td>0</td>\n",
              "      <td>1</td>\n",
              "      <td>1</td>\n",
              "      <td>13.94</td>\n",
              "      <td>17.425</td>\n",
              "      <td>61</td>\n",
              "      <td>6.0032</td>\n",
              "      <td>12</td>\n",
              "      <td>117</td>\n",
              "      <td>129</td>\n",
              "    </tr>\n",
              "    <tr>\n",
              "      <th>10885</th>\n",
              "      <td>2012-12-19 23:00:00</td>\n",
              "      <td>4</td>\n",
              "      <td>0</td>\n",
              "      <td>1</td>\n",
              "      <td>1</td>\n",
              "      <td>13.12</td>\n",
              "      <td>16.665</td>\n",
              "      <td>66</td>\n",
              "      <td>8.9981</td>\n",
              "      <td>4</td>\n",
              "      <td>84</td>\n",
              "      <td>88</td>\n",
              "    </tr>\n",
              "  </tbody>\n",
              "</table>\n",
              "<p>10886 rows × 12 columns</p>\n",
              "</div>\n",
              "      <button class=\"colab-df-convert\" onclick=\"convertToInteractive('df-d0b084de-d762-4937-9bcb-929d6687d9d5')\"\n",
              "              title=\"Convert this dataframe to an interactive table.\"\n",
              "              style=\"display:none;\">\n",
              "        \n",
              "  <svg xmlns=\"http://www.w3.org/2000/svg\" height=\"24px\"viewBox=\"0 0 24 24\"\n",
              "       width=\"24px\">\n",
              "    <path d=\"M0 0h24v24H0V0z\" fill=\"none\"/>\n",
              "    <path d=\"M18.56 5.44l.94 2.06.94-2.06 2.06-.94-2.06-.94-.94-2.06-.94 2.06-2.06.94zm-11 1L8.5 8.5l.94-2.06 2.06-.94-2.06-.94L8.5 2.5l-.94 2.06-2.06.94zm10 10l.94 2.06.94-2.06 2.06-.94-2.06-.94-.94-2.06-.94 2.06-2.06.94z\"/><path d=\"M17.41 7.96l-1.37-1.37c-.4-.4-.92-.59-1.43-.59-.52 0-1.04.2-1.43.59L10.3 9.45l-7.72 7.72c-.78.78-.78 2.05 0 2.83L4 21.41c.39.39.9.59 1.41.59.51 0 1.02-.2 1.41-.59l7.78-7.78 2.81-2.81c.8-.78.8-2.07 0-2.86zM5.41 20L4 18.59l7.72-7.72 1.47 1.35L5.41 20z\"/>\n",
              "  </svg>\n",
              "      </button>\n",
              "      \n",
              "  <style>\n",
              "    .colab-df-container {\n",
              "      display:flex;\n",
              "      flex-wrap:wrap;\n",
              "      gap: 12px;\n",
              "    }\n",
              "\n",
              "    .colab-df-convert {\n",
              "      background-color: #E8F0FE;\n",
              "      border: none;\n",
              "      border-radius: 50%;\n",
              "      cursor: pointer;\n",
              "      display: none;\n",
              "      fill: #1967D2;\n",
              "      height: 32px;\n",
              "      padding: 0 0 0 0;\n",
              "      width: 32px;\n",
              "    }\n",
              "\n",
              "    .colab-df-convert:hover {\n",
              "      background-color: #E2EBFA;\n",
              "      box-shadow: 0px 1px 2px rgba(60, 64, 67, 0.3), 0px 1px 3px 1px rgba(60, 64, 67, 0.15);\n",
              "      fill: #174EA6;\n",
              "    }\n",
              "\n",
              "    [theme=dark] .colab-df-convert {\n",
              "      background-color: #3B4455;\n",
              "      fill: #D2E3FC;\n",
              "    }\n",
              "\n",
              "    [theme=dark] .colab-df-convert:hover {\n",
              "      background-color: #434B5C;\n",
              "      box-shadow: 0px 1px 3px 1px rgba(0, 0, 0, 0.15);\n",
              "      filter: drop-shadow(0px 1px 2px rgba(0, 0, 0, 0.3));\n",
              "      fill: #FFFFFF;\n",
              "    }\n",
              "  </style>\n",
              "\n",
              "      <script>\n",
              "        const buttonEl =\n",
              "          document.querySelector('#df-d0b084de-d762-4937-9bcb-929d6687d9d5 button.colab-df-convert');\n",
              "        buttonEl.style.display =\n",
              "          google.colab.kernel.accessAllowed ? 'block' : 'none';\n",
              "\n",
              "        async function convertToInteractive(key) {\n",
              "          const element = document.querySelector('#df-d0b084de-d762-4937-9bcb-929d6687d9d5');\n",
              "          const dataTable =\n",
              "            await google.colab.kernel.invokeFunction('convertToInteractive',\n",
              "                                                     [key], {});\n",
              "          if (!dataTable) return;\n",
              "\n",
              "          const docLinkHtml = 'Like what you see? Visit the ' +\n",
              "            '<a target=\"_blank\" href=https://colab.research.google.com/notebooks/data_table.ipynb>data table notebook</a>'\n",
              "            + ' to learn more about interactive tables.';\n",
              "          element.innerHTML = '';\n",
              "          dataTable['output_type'] = 'display_data';\n",
              "          await google.colab.output.renderOutput(dataTable, element);\n",
              "          const docLink = document.createElement('div');\n",
              "          docLink.innerHTML = docLinkHtml;\n",
              "          element.appendChild(docLink);\n",
              "        }\n",
              "      </script>\n",
              "    </div>\n",
              "  </div>\n",
              "  "
            ]
          },
          "metadata": {},
          "execution_count": 8
        }
      ]
    },
    {
      "cell_type": "markdown",
      "source": [
        "# EDA"
      ],
      "metadata": {
        "id": "ocwm_2Tg-sc1"
      }
    },
    {
      "cell_type": "markdown",
      "source": [
        "## Count of bikes rented per hour"
      ],
      "metadata": {
        "id": "PrsuNcFWnosA"
      }
    },
    {
      "cell_type": "code",
      "source": [
        "data[\"datetime\"] = pd.to_datetime(data[\"datetime\"])\n",
        "data[\"hour\"] = data[\"datetime\"].dt.hour\n",
        "data[\"day_of_week\"] = data[\"datetime\"].dt.dayofweek\n",
        "data[\"month\"] = data[\"datetime\"].dt.month\n",
        "data[\"year\"] = data[\"datetime\"].dt.year\n",
        "data[\"datetime\"].dt.day.value_counts().sort_index()"
      ],
      "metadata": {
        "id": "wsex5Nlwn7d-",
        "colab": {
          "base_uri": "https://localhost:8080/"
        },
        "outputId": "59d741d4-2841-403c-b67c-feebddfad2e7"
      },
      "execution_count": null,
      "outputs": [
        {
          "output_type": "execute_result",
          "data": {
            "text/plain": [
              "1     575\n",
              "2     573\n",
              "3     573\n",
              "4     574\n",
              "5     575\n",
              "6     572\n",
              "7     574\n",
              "8     574\n",
              "9     575\n",
              "10    572\n",
              "11    568\n",
              "12    573\n",
              "13    574\n",
              "14    574\n",
              "15    574\n",
              "16    574\n",
              "17    575\n",
              "18    563\n",
              "19    574\n",
              "Name: datetime, dtype: int64"
            ]
          },
          "metadata": {},
          "execution_count": 9
        }
      ]
    },
    {
      "cell_type": "code",
      "source": [
        "# test_df = pd.read_csv(\"/content/drive/MyDrive/dataset/bike-sharing-demand/test.csv\", header=0)\n",
        "# test_df['datetime'] = pd.to_datetime(test_df['datetime'])\n",
        "# test_df['datetime'].dt.day.value_counts().sort_index()"
      ],
      "metadata": {
        "id": "VneNdyGcBJRL"
      },
      "execution_count": null,
      "outputs": []
    },
    {
      "cell_type": "code",
      "source": [
        "plt.figure(figsize=(12,6))\n",
        "sns.barplot(x='hour', y='count', data=data.groupby('hour')['count'].mean().reset_index(), palette='viridis')\n",
        "plt.title('Count of Bikes Rented per Hour')\n",
        "plt.show()"
      ],
      "metadata": {
        "colab": {
          "base_uri": "https://localhost:8080/",
          "height": 564
        },
        "id": "tEcFEv-bnpUj",
        "outputId": "354603c7-8646-4456-c96c-2a9447ad9608"
      },
      "execution_count": null,
      "outputs": [
        {
          "output_type": "display_data",
          "data": {
            "text/plain": [
              "<Figure size 1200x600 with 1 Axes>"
            ],
            "image/png": "[encoded data removed]"
          },
          "metadata": {}
        }
      ]
    },
    {
      "cell_type": "code",
      "source": [
        "plt.figure(figsize=(12,6))\n",
        "sns.barplot(x='day_of_week', y='count', data=data.groupby('day_of_week')['count'].mean().reset_index(), palette='viridis')\n",
        "plt.title('Count of Bikes Rented per Hour')\n",
        "plt.show()"
      ],
      "metadata": {
        "colab": {
          "base_uri": "https://localhost:8080/",
          "height": 564
        },
        "id": "THuNNxMU5GS7",
        "outputId": "8ced3623-09b6-4807-c44f-f17813e86e4f"
      },
      "execution_count": null,
      "outputs": [
        {
          "output_type": "display_data",
          "data": {
            "text/plain": [
              "<Figure size 1200x600 with 1 Axes>"
            ],
            "image/png": "[encoded data removed]"
          },
          "metadata": {}
        }
      ]
    },
    {
      "cell_type": "markdown",
      "source": [
        "## Count of bikes rented per month"
      ],
      "metadata": {
        "id": "nbEvyehNoWeG"
      }
    },
    {
      "cell_type": "code",
      "source": [
        "plt.figure(figsize=(12,6))\n",
        "sns.barplot(x='month', y='count', data=data.groupby('month')['count'].sum().reset_index(), palette='viridis')\n",
        "plt.title('Count of Bikes Rented per Month')\n",
        "plt.show()"
      ],
      "metadata": {
        "colab": {
          "base_uri": "https://localhost:8080/",
          "height": 564
        },
        "id": "EYraCq4MoQkr",
        "outputId": "f2d952a8-8a11-446e-aee5-bda6c2b2b726"
      },
      "execution_count": null,
      "outputs": [
        {
          "output_type": "display_data",
          "data": {
            "text/plain": [
              "<Figure size 1200x600 with 1 Axes>"
            ],
            "image/png": "[encoded data removed]"
          },
          "metadata": {}
        }
      ]
    },
    {
      "cell_type": "markdown",
      "source": [
        "## Counts of Bikes rented by season"
      ],
      "metadata": {
        "id": "bfasmpDHoew8"
      }
    },
    {
      "cell_type": "code",
      "source": [
        "plt.figure(figsize=(12,6))\n",
        "sns.barplot(x='season', y='count', data=data.groupby('season')['count'].mean().reset_index(), palette='viridis')\n",
        "plt.title('Count of Bikes Rented by Season')\n",
        "plt.show()"
      ],
      "metadata": {
        "colab": {
          "base_uri": "https://localhost:8080/",
          "height": 564
        },
        "id": "mUDKmM9TofK8",
        "outputId": "18f1b4c8-9a25-43d7-f99c-ab6c10f72fe6"
      },
      "execution_count": null,
      "outputs": [
        {
          "output_type": "display_data",
          "data": {
            "text/plain": [
              "<Figure size 1200x600 with 1 Axes>"
            ],
            "image/png": "[encoded data removed]"
          },
          "metadata": {}
        }
      ]
    },
    {
      "cell_type": "markdown",
      "source": [
        "## Count of bikes rented in different weather conditions"
      ],
      "metadata": {
        "id": "EY_dYOXKoxHh"
      }
    },
    {
      "cell_type": "code",
      "source": [
        "plt.figure(figsize=(12,6))\n",
        "sns.barplot(x='weather', y='count', data=data.groupby('weather')['count'].mean().reset_index(), palette='viridis')\n",
        "plt.title('Count of Bikes Rented in Different Weather Conditions')\n",
        "plt.show()\n"
      ],
      "metadata": {
        "colab": {
          "base_uri": "https://localhost:8080/",
          "height": 564
        },
        "id": "0s90Eoerov21",
        "outputId": "a74d0e8e-ae47-4279-f98c-2e50b8e9fe22"
      },
      "execution_count": null,
      "outputs": [
        {
          "output_type": "display_data",
          "data": {
            "text/plain": [
              "<Figure size 1200x600 with 1 Axes>"
            ],
            "image/png": "[encoded data removed]"
          },
          "metadata": {}
        }
      ]
    },
    {
      "cell_type": "markdown",
      "source": [
        "## Corelation Heatmap"
      ],
      "metadata": {
        "id": "4W7ycSkJ-1Y2"
      }
    },
    {
      "cell_type": "code",
      "source": [
        "data.corr()"
      ],
      "metadata": {
        "colab": {
          "base_uri": "https://localhost:8080/",
          "height": 574
        },
        "id": "K0h8zSbuWnWF",
        "outputId": "bea19fdd-0bb2-427b-d0a9-71fdeb2d895c"
      },
      "execution_count": null,
      "outputs": [
        {
          "output_type": "stream",
          "name": "stderr",
          "text": [
            "<ipython-input-24-c44ded798807>:1: FutureWarning: The default value of numeric_only in DataFrame.corr is deprecated. In a future version, it will default to False. Select only valid columns or specify the value of numeric_only to silence this warning.\n",
            "  data.corr()\n"
          ]
        },
        {
          "output_type": "execute_result",
          "data": {
            "text/plain": [
              "               season   holiday  workingday   weather      temp     atemp  \\\n",
              "season       1.000000  0.029368   -0.008126  0.008879  0.258689  0.264744   \n",
              "holiday      0.029368  1.000000   -0.250491 -0.007074  0.000295 -0.005215   \n",
              "workingday  -0.008126 -0.250491    1.000000  0.033772  0.029966  0.024660   \n",
              "weather      0.008879 -0.007074    0.033772  1.000000 -0.055035 -0.055376   \n",
              "temp         0.258689  0.000295    0.029966 -0.055035  1.000000  0.984948   \n",
              "atemp        0.264744 -0.005215    0.024660 -0.055376  0.984948  1.000000   \n",
              "humidity     0.190610  0.001929   -0.010880  0.406244 -0.064949 -0.043536   \n",
              "windspeed   -0.147121  0.008409    0.013373  0.007261 -0.017852 -0.057473   \n",
              "casual       0.096758  0.043799   -0.319111 -0.135918  0.467097  0.462067   \n",
              "registered   0.164011 -0.020956    0.119460 -0.109340  0.318571  0.314635   \n",
              "count        0.163439 -0.005393    0.011594 -0.128655  0.394454  0.389784   \n",
              "hour        -0.006546 -0.000354    0.002780 -0.022740  0.145430  0.140343   \n",
              "day_of_week -0.010553 -0.191832   -0.704267 -0.047692 -0.038466 -0.040235   \n",
              "month        0.971524  0.001731   -0.003394  0.012144  0.257589  0.264173   \n",
              "year        -0.004797  0.012021   -0.002482 -0.012548  0.061226  0.058540   \n",
              "\n",
              "             humidity  windspeed    casual  registered     count      hour  \\\n",
              "season       0.190610  -0.147121  0.096758    0.164011  0.163439 -0.006546   \n",
              "holiday      0.001929   0.008409  0.043799   -0.020956 -0.005393 -0.000354   \n",
              "workingday  -0.010880   0.013373 -0.319111    0.119460  0.011594  0.002780   \n",
              "weather      0.406244   0.007261 -0.135918   -0.109340 -0.128655 -0.022740   \n",
              "temp        -0.064949  -0.017852  0.467097    0.318571  0.394454  0.145430   \n",
              "atemp       -0.043536  -0.057473  0.462067    0.314635  0.389784  0.140343   \n",
              "humidity     1.000000  -0.318607 -0.348187   -0.265458 -0.317371 -0.278011   \n",
              "windspeed   -0.318607   1.000000  0.092276    0.091052  0.101369  0.146631   \n",
              "casual      -0.348187   0.092276  1.000000    0.497250  0.690414  0.302045   \n",
              "registered  -0.265458   0.091052  0.497250    1.000000  0.970948  0.380540   \n",
              "count       -0.317371   0.101369  0.690414    0.970948  1.000000  0.400601   \n",
              "hour        -0.278011   0.146631  0.302045    0.380540  0.400601  1.000000   \n",
              "day_of_week -0.026507  -0.024804  0.246959   -0.084427 -0.002283 -0.002925   \n",
              "month        0.204537  -0.150192  0.092722    0.169451  0.166862 -0.006818   \n",
              "year        -0.078606  -0.015221  0.145241    0.264265  0.260403 -0.004234   \n",
              "\n",
              "             day_of_week     month      year  \n",
              "season         -0.010553  0.971524 -0.004797  \n",
              "holiday        -0.191832  0.001731  0.012021  \n",
              "workingday     -0.704267 -0.003394 -0.002482  \n",
              "weather        -0.047692  0.012144 -0.012548  \n",
              "temp           -0.038466  0.257589  0.061226  \n",
              "atemp          -0.040235  0.264173  0.058540  \n",
              "humidity       -0.026507  0.204537 -0.078606  \n",
              "windspeed      -0.024804 -0.150192 -0.015221  \n",
              "casual          0.246959  0.092722  0.145241  \n",
              "registered     -0.084427  0.169451  0.264265  \n",
              "count          -0.002283  0.166862  0.260403  \n",
              "hour           -0.002925 -0.006818 -0.004234  \n",
              "day_of_week     1.000000 -0.002266 -0.003785  \n",
              "month          -0.002266  1.000000 -0.004932  \n",
              "year           -0.003785 -0.004932  1.000000  "
            ],
            "text/html": [
              "\n",
              "  <div id=\"df-c3035cb8-00d5-41b6-bc50-c5a4be5f0c86\">\n",
              "    <div class=\"colab-df-container\">\n",
              "      <div>\n",
              "<style scoped>\n",
              "    .dataframe tbody tr th:only-of-type {\n",
              "        vertical-align: middle;\n",
              "    }\n",
              "\n",
              "    .dataframe tbody tr th {\n",
              "        vertical-align: top;\n",
              "    }\n",
              "\n",
              "    .dataframe thead th {\n",
              "        text-align: right;\n",
              "    }\n",
              "</style>\n",
              "<table border=\"1\" class=\"dataframe\">\n",
              "  <thead>\n",
              "    <tr style=\"text-align: right;\">\n",
              "      <th></th>\n",
              "      <th>season</th>\n",
              "      <th>holiday</th>\n",
              "      <th>workingday</th>\n",
              "      <th>weather</th>\n",
              "      <th>temp</th>\n",
              "      <th>atemp</th>\n",
              "      <th>humidity</th>\n",
              "      <th>windspeed</th>\n",
              "      <th>casual</th>\n",
              "      <th>registered</th>\n",
              "      <th>count</th>\n",
              "      <th>hour</th>\n",
              "      <th>day_of_week</th>\n",
              "      <th>month</th>\n",
              "      <th>year</th>\n",
              "    </tr>\n",
              "  </thead>\n",
              "  <tbody>\n",
              "    <tr>\n",
              "      <th>season</th>\n",
              "      <td>1.000000</td>\n",
              "      <td>0.029368</td>\n",
              "      <td>-0.008126</td>\n",
              "      <td>0.008879</td>\n",
              "      <td>0.258689</td>\n",
              "      <td>0.264744</td>\n",
              "      <td>0.190610</td>\n",
              "      <td>-0.147121</td>\n",
              "      <td>0.096758</td>\n",
              "      <td>0.164011</td>\n",
              "      <td>0.163439</td>\n",
              "      <td>-0.006546</td>\n",
              "      <td>-0.010553</td>\n",
              "      <td>0.971524</td>\n",
              "      <td>-0.004797</td>\n",
              "    </tr>\n",
              "    <tr>\n",
              "      <th>holiday</th>\n",
              "      <td>0.029368</td>\n",
              "      <td>1.000000</td>\n",
              "      <td>-0.250491</td>\n",
              "      <td>-0.007074</td>\n",
              "      <td>0.000295</td>\n",
              "      <td>-0.005215</td>\n",
              "      <td>0.001929</td>\n",
              "      <td>0.008409</td>\n",
              "      <td>0.043799</td>\n",
              "      <td>-0.020956</td>\n",
              "      <td>-0.005393</td>\n",
              "      <td>-0.000354</td>\n",
              "      <td>-0.191832</td>\n",
              "      <td>0.001731</td>\n",
              "      <td>0.012021</td>\n",
              "    </tr>\n",
              "    <tr>\n",
              "      <th>workingday</th>\n",
              "      <td>-0.008126</td>\n",
              "      <td>-0.250491</td>\n",
              "      <td>1.000000</td>\n",
              "      <td>0.033772</td>\n",
              "      <td>0.029966</td>\n",
              "      <td>0.024660</td>\n",
              "      <td>-0.010880</td>\n",
              "      <td>0.013373</td>\n",
              "      <td>-0.319111</td>\n",
              "      <td>0.119460</td>\n",
              "      <td>0.011594</td>\n",
              "      <td>0.002780</td>\n",
              "      <td>-0.704267</td>\n",
              "      <td>-0.003394</td>\n",
              "      <td>-0.002482</td>\n",
              "    </tr>\n",
              "    <tr>\n",
              "      <th>weather</th>\n",
              "      <td>0.008879</td>\n",
              "      <td>-0.007074</td>\n",
              "      <td>0.033772</td>\n",
              "      <td>1.000000</td>\n",
              "      <td>-0.055035</td>\n",
              "      <td>-0.055376</td>\n",
              "      <td>0.406244</td>\n",
              "      <td>0.007261</td>\n",
              "      <td>-0.135918</td>\n",
              "      <td>-0.109340</td>\n",
              "      <td>-0.128655</td>\n",
              "      <td>-0.022740</td>\n",
              "      <td>-0.047692</td>\n",
              "      <td>0.012144</td>\n",
              "      <td>-0.012548</td>\n",
              "    </tr>\n",
              "    <tr>\n",
              "      <th>temp</th>\n",
              "      <td>0.258689</td>\n",
              "      <td>0.000295</td>\n",
              "      <td>0.029966</td>\n",
              "      <td>-0.055035</td>\n",
              "      <td>1.000000</td>\n",
              "      <td>0.984948</td>\n",
              "      <td>-0.064949</td>\n",
              "      <td>-0.017852</td>\n",
              "      <td>0.467097</td>\n",
              "      <td>0.318571</td>\n",
              "      <td>0.394454</td>\n",
              "      <td>0.145430</td>\n",
              "      <td>-0.038466</td>\n",
              "      <td>0.257589</td>\n",
              "      <td>0.061226</td>\n",
              "    </tr>\n",
              "    <tr>\n",
              "      <th>atemp</th>\n",
              "      <td>0.264744</td>\n",
              "      <td>-0.005215</td>\n",
              "      <td>0.024660</td>\n",
              "      <td>-0.055376</td>\n",
              "      <td>0.984948</td>\n",
              "      <td>1.000000</td>\n",
              "      <td>-0.043536</td>\n",
              "      <td>-0.057473</td>\n",
              "      <td>0.462067</td>\n",
              "      <td>0.314635</td>\n",
              "      <td>0.389784</td>\n",
              "      <td>0.140343</td>\n",
              "      <td>-0.040235</td>\n",
              "      <td>0.264173</td>\n",
              "      <td>0.058540</td>\n",
              "    </tr>\n",
              "    <tr>\n",
              "      <th>humidity</th>\n",
              "      <td>0.190610</td>\n",
              "      <td>0.001929</td>\n",
              "      <td>-0.010880</td>\n",
              "      <td>0.406244</td>\n",
              "      <td>-0.064949</td>\n",
              "      <td>-0.043536</td>\n",
              "      <td>1.000000</td>\n",
              "      <td>-0.318607</td>\n",
              "      <td>-0.348187</td>\n",
              "      <td>-0.265458</td>\n",
              "      <td>-0.317371</td>\n",
              "      <td>-0.278011</td>\n",
              "      <td>-0.026507</td>\n",
              "      <td>0.204537</td>\n",
              "      <td>-0.078606</td>\n",
              "    </tr>\n",
              "    <tr>\n",
              "      <th>windspeed</th>\n",
              "      <td>-0.147121</td>\n",
              "      <td>0.008409</td>\n",
              "      <td>0.013373</td>\n",
              "      <td>0.007261</td>\n",
              "      <td>-0.017852</td>\n",
              "      <td>-0.057473</td>\n",
              "      <td>-0.318607</td>\n",
              "      <td>1.000000</td>\n",
              "      <td>0.092276</td>\n",
              "      <td>0.091052</td>\n",
              "      <td>0.101369</td>\n",
              "      <td>0.146631</td>\n",
              "      <td>-0.024804</td>\n",
              "      <td>-0.150192</td>\n",
              "      <td>-0.015221</td>\n",
              "    </tr>\n",
              "    <tr>\n",
              "      <th>casual</th>\n",
              "      <td>0.096758</td>\n",
              "      <td>0.043799</td>\n",
              "      <td>-0.319111</td>\n",
              "      <td>-0.135918</td>\n",
              "      <td>0.467097</td>\n",
              "      <td>0.462067</td>\n",
              "      <td>-0.348187</td>\n",
              "      <td>0.092276</td>\n",
              "      <td>1.000000</td>\n",
              "      <td>0.497250</td>\n",
              "      <td>0.690414</td>\n",
              "      <td>0.302045</td>\n",
              "      <td>0.246959</td>\n",
              "      <td>0.092722</td>\n",
              "      <td>0.145241</td>\n",
              "    </tr>\n",
              "    <tr>\n",
              "      <th>registered</th>\n",
              "      <td>0.164011</td>\n",
              "      <td>-0.020956</td>\n",
              "      <td>0.119460</td>\n",
              "      <td>-0.109340</td>\n",
              "      <td>0.318571</td>\n",
              "      <td>0.314635</td>\n",
              "      <td>-0.265458</td>\n",
              "      <td>0.091052</td>\n",
              "      <td>0.497250</td>\n",
              "      <td>1.000000</td>\n",
              "      <td>0.970948</td>\n",
              "      <td>0.380540</td>\n",
              "      <td>-0.084427</td>\n",
              "      <td>0.169451</td>\n",
              "      <td>0.264265</td>\n",
              "    </tr>\n",
              "    <tr>\n",
              "      <th>count</th>\n",
              "      <td>0.163439</td>\n",
              "      <td>-0.005393</td>\n",
              "      <td>0.011594</td>\n",
              "      <td>-0.128655</td>\n",
              "      <td>0.394454</td>\n",
              "      <td>0.389784</td>\n",
              "      <td>-0.317371</td>\n",
              "      <td>0.101369</td>\n",
              "      <td>0.690414</td>\n",
              "      <td>0.970948</td>\n",
              "      <td>1.000000</td>\n",
              "      <td>0.400601</td>\n",
              "      <td>-0.002283</td>\n",
              "      <td>0.166862</td>\n",
              "      <td>0.260403</td>\n",
              "    </tr>\n",
              "    <tr>\n",
              "      <th>hour</th>\n",
              "      <td>-0.006546</td>\n",
              "      <td>-0.000354</td>\n",
              "      <td>0.002780</td>\n",
              "      <td>-0.022740</td>\n",
              "      <td>0.145430</td>\n",
              "      <td>0.140343</td>\n",
              "      <td>-0.278011</td>\n",
              "      <td>0.146631</td>\n",
              "      <td>0.302045</td>\n",
              "      <td>0.380540</td>\n",
              "      <td>0.400601</td>\n",
              "      <td>1.000000</td>\n",
              "      <td>-0.002925</td>\n",
              "      <td>-0.006818</td>\n",
              "      <td>-0.004234</td>\n",
              "    </tr>\n",
              "    <tr>\n",
              "      <th>day_of_week</th>\n",
              "      <td>-0.010553</td>\n",
              "      <td>-0.191832</td>\n",
              "      <td>-0.704267</td>\n",
              "      <td>-0.047692</td>\n",
              "      <td>-0.038466</td>\n",
              "      <td>-0.040235</td>\n",
              "      <td>-0.026507</td>\n",
              "      <td>-0.024804</td>\n",
              "      <td>0.246959</td>\n",
              "      <td>-0.084427</td>\n",
              "      <td>-0.002283</td>\n",
              "      <td>-0.002925</td>\n",
              "      <td>1.000000</td>\n",
              "      <td>-0.002266</td>\n",
              "      <td>-0.003785</td>\n",
              "    </tr>\n",
              "    <tr>\n",
              "      <th>month</th>\n",
              "      <td>0.971524</td>\n",
              "      <td>0.001731</td>\n",
              "      <td>-0.003394</td>\n",
              "      <td>0.012144</td>\n",
              "      <td>0.257589</td>\n",
              "      <td>0.264173</td>\n",
              "      <td>0.204537</td>\n",
              "      <td>-0.150192</td>\n",
              "      <td>0.092722</td>\n",
              "      <td>0.169451</td>\n",
              "      <td>0.166862</td>\n",
              "      <td>-0.006818</td>\n",
              "      <td>-0.002266</td>\n",
              "      <td>1.000000</td>\n",
              "      <td>-0.004932</td>\n",
              "    </tr>\n",
              "    <tr>\n",
              "      <th>year</th>\n",
              "      <td>-0.004797</td>\n",
              "      <td>0.012021</td>\n",
              "      <td>-0.002482</td>\n",
              "      <td>-0.012548</td>\n",
              "      <td>0.061226</td>\n",
              "      <td>0.058540</td>\n",
              "      <td>-0.078606</td>\n",
              "      <td>-0.015221</td>\n",
              "      <td>0.145241</td>\n",
              "      <td>0.264265</td>\n",
              "      <td>0.260403</td>\n",
              "      <td>-0.004234</td>\n",
              "      <td>-0.003785</td>\n",
              "      <td>-0.004932</td>\n",
              "      <td>1.000000</td>\n",
              "    </tr>\n",
              "  </tbody>\n",
              "</table>\n",
              "</div>\n",
              "      <button class=\"colab-df-convert\" onclick=\"convertToInteractive('df-c3035cb8-00d5-41b6-bc50-c5a4be5f0c86')\"\n",
              "              title=\"Convert this dataframe to an interactive table.\"\n",
              "              style=\"display:none;\">\n",
              "        \n",
              "  <svg xmlns=\"http://www.w3.org/2000/svg\" height=\"24px\"viewBox=\"0 0 24 24\"\n",
              "       width=\"24px\">\n",
              "    <path d=\"M0 0h24v24H0V0z\" fill=\"none\"/>\n",
              "    <path d=\"M18.56 5.44l.94 2.06.94-2.06 2.06-.94-2.06-.94-.94-2.06-.94 2.06-2.06.94zm-11 1L8.5 8.5l.94-2.06 2.06-.94-2.06-.94L8.5 2.5l-.94 2.06-2.06.94zm10 10l.94 2.06.94-2.06 2.06-.94-2.06-.94-.94-2.06-.94 2.06-2.06.94z\"/><path d=\"M17.41 7.96l-1.37-1.37c-.4-.4-.92-.59-1.43-.59-.52 0-1.04.2-1.43.59L10.3 9.45l-7.72 7.72c-.78.78-.78 2.05 0 2.83L4 21.41c.39.39.9.59 1.41.59.51 0 1.02-.2 1.41-.59l7.78-7.78 2.81-2.81c.8-.78.8-2.07 0-2.86zM5.41 20L4 18.59l7.72-7.72 1.47 1.35L5.41 20z\"/>\n",
              "  </svg>\n",
              "      </button>\n",
              "      \n",
              "  <style>\n",
              "    .colab-df-container {\n",
              "      display:flex;\n",
              "      flex-wrap:wrap;\n",
              "      gap: 12px;\n",
              "    }\n",
              "\n",
              "    .colab-df-convert {\n",
              "      background-color: #E8F0FE;\n",
              "      border: none;\n",
              "      border-radius: 50%;\n",
              "      cursor: pointer;\n",
              "      display: none;\n",
              "      fill: #1967D2;\n",
              "      height: 32px;\n",
              "      padding: 0 0 0 0;\n",
              "      width: 32px;\n",
              "    }\n",
              "\n",
              "    .colab-df-convert:hover {\n",
              "      background-color: #E2EBFA;\n",
              "      box-shadow: 0px 1px 2px rgba(60, 64, 67, 0.3), 0px 1px 3px 1px rgba(60, 64, 67, 0.15);\n",
              "      fill: #174EA6;\n",
              "    }\n",
              "\n",
              "    [theme=dark] .colab-df-convert {\n",
              "      background-color: #3B4455;\n",
              "      fill: #D2E3FC;\n",
              "    }\n",
              "\n",
              "    [theme=dark] .colab-df-convert:hover {\n",
              "      background-color: #434B5C;\n",
              "      box-shadow: 0px 1px 3px 1px rgba(0, 0, 0, 0.15);\n",
              "      filter: drop-shadow(0px 1px 2px rgba(0, 0, 0, 0.3));\n",
              "      fill: #FFFFFF;\n",
              "    }\n",
              "  </style>\n",
              "\n",
              "      <script>\n",
              "        const buttonEl =\n",
              "          document.querySelector('#df-c3035cb8-00d5-41b6-bc50-c5a4be5f0c86 button.colab-df-convert');\n",
              "        buttonEl.style.display =\n",
              "          google.colab.kernel.accessAllowed ? 'block' : 'none';\n",
              "\n",
              "        async function convertToInteractive(key) {\n",
              "          const element = document.querySelector('#df-c3035cb8-00d5-41b6-bc50-c5a4be5f0c86');\n",
              "          const dataTable =\n",
              "            await google.colab.kernel.invokeFunction('convertToInteractive',\n",
              "                                                     [key], {});\n",
              "          if (!dataTable) return;\n",
              "\n",
              "          const docLinkHtml = 'Like what you see? Visit the ' +\n",
              "            '<a target=\"_blank\" href=https://colab.research.google.com/notebooks/data_table.ipynb>data table notebook</a>'\n",
              "            + ' to learn more about interactive tables.';\n",
              "          element.innerHTML = '';\n",
              "          dataTable['output_type'] = 'display_data';\n",
              "          await google.colab.output.renderOutput(dataTable, element);\n",
              "          const docLink = document.createElement('div');\n",
              "          docLink.innerHTML = docLinkHtml;\n",
              "          element.appendChild(docLink);\n",
              "        }\n",
              "      </script>\n",
              "    </div>\n",
              "  </div>\n",
              "  "
            ]
          },
          "metadata": {},
          "execution_count": 24
        }
      ]
    },
    {
      "cell_type": "code",
      "source": [
        "plt.figure(figsize=(12,8))\n",
        "sns.heatmap(data.corr(), annot=True, cmap='coolwarm', linewidths=.5)\n",
        "plt.title('Correlation Heatmap')\n",
        "plt.show()"
      ],
      "metadata": {
        "colab": {
          "base_uri": "https://localhost:8080/",
          "height": 829
        },
        "id": "NWWhyzePpIAr",
        "outputId": "6a7edab2-b133-4629-c4ec-9b13915ce0c4"
      },
      "execution_count": null,
      "outputs": [
        {
          "output_type": "stream",
          "name": "stderr",
          "text": [
            "<ipython-input-29-75ee9b43a8fb>:2: FutureWarning: The default value of numeric_only in DataFrame.corr is deprecated. In a future version, it will default to False. Select only valid columns or specify the value of numeric_only to silence this warning.\n",
            "  sns.heatmap(data.corr(), annot=True, cmap='coolwarm', linewidths=.5)\n"
          ]
        },
        {
          "output_type": "display_data",
          "data": {
            "text/plain": [
              "<Figure size 1200x800 with 2 Axes>"
            ],
            "image/png": "[encoded data removed]"
          },
          "metadata": {}
        }
      ]
    },
    {
      "cell_type": "markdown",
      "source": [
        "look for the count row in the graph , count of the bike is highly correlated with tempreature"
      ],
      "metadata": {
        "id": "RL0Lv2jh0bn5"
      }
    },
    {
      "cell_type": "markdown",
      "source": [
        "See how season and Month are highly corrleated ,"
      ],
      "metadata": {
        "id": "bpSNkSnb0y-R"
      }
    },
    {
      "cell_type": "markdown",
      "source": [
        "# Feature Engineering"
      ],
      "metadata": {
        "id": "jbYP-8yH-1fs"
      }
    },
    {
      "cell_type": "markdown",
      "source": [
        "## Train Test split"
      ],
      "metadata": {
        "id": "5CNlfz2NQZtW"
      }
    },
    {
      "cell_type": "code",
      "source": [
        "data.info()"
      ],
      "metadata": {
        "colab": {
          "base_uri": "https://localhost:8080/"
        },
        "id": "grZPJWnv_XKg",
        "outputId": "5a7d1004-4fcb-414b-e8cd-4232b3ac7b99"
      },
      "execution_count": null,
      "outputs": [
        {
          "output_type": "stream",
          "name": "stdout",
          "text": [
            "<class 'pandas.core.frame.DataFrame'>\n",
            "RangeIndex: 10886 entries, 0 to 10885\n",
            "Data columns (total 16 columns):\n",
            " #   Column       Non-Null Count  Dtype         \n",
            "---  ------       --------------  -----         \n",
            " 0   datetime     10886 non-null  datetime64[ns]\n",
            " 1   season       10886 non-null  int64         \n",
            " 2   holiday      10886 non-null  int64         \n",
            " 3   workingday   10886 non-null  int64         \n",
            " 4   weather      10886 non-null  int64         \n",
            " 5   temp         10886 non-null  float64       \n",
            " 6   atemp        10886 non-null  float64       \n",
            " 7   humidity     10886 non-null  int64         \n",
            " 8   windspeed    10886 non-null  float64       \n",
            " 9   casual       10886 non-null  int64         \n",
            " 10  registered   10886 non-null  int64         \n",
            " 11  count        10886 non-null  int64         \n",
            " 12  hour         10886 non-null  int64         \n",
            " 13  day_of_week  10886 non-null  int64         \n",
            " 14  month        10886 non-null  int64         \n",
            " 15  year         10886 non-null  int64         \n",
            "dtypes: datetime64[ns](1), float64(3), int64(12)\n",
            "memory usage: 1.3 MB\n"
          ]
        }
      ]
    },
    {
      "cell_type": "code",
      "source": [
        "data.isna().sum()"
      ],
      "metadata": {
        "colab": {
          "base_uri": "https://localhost:8080/"
        },
        "id": "mdPS8OiAWG_O",
        "outputId": "cc3260dc-0e72-40f8-aec0-552413e07ae2"
      },
      "execution_count": null,
      "outputs": [
        {
          "output_type": "execute_result",
          "data": {
            "text/plain": [
              "datetime       0\n",
              "season         0\n",
              "holiday        0\n",
              "workingday     0\n",
              "weather        0\n",
              "temp           0\n",
              "atemp          0\n",
              "humidity       0\n",
              "windspeed      0\n",
              "casual         0\n",
              "registered     0\n",
              "count          0\n",
              "hour           0\n",
              "day_of_week    0\n",
              "month          0\n",
              "year           0\n",
              "dtype: int64"
            ]
          },
          "metadata": {},
          "execution_count": 31
        }
      ]
    },
    {
      "cell_type": "code",
      "source": [
        "# Filter the data for the 18th and 19th day of each month\n",
        "test_data = data[data['datetime'].dt.day.isin([18, 19])]\n",
        "\n",
        "# Filter the data for all other days\n",
        "train_data = data[~data['datetime'].dt.day.isin([18, 19])]\n"
      ],
      "metadata": {
        "id": "x7j1L2wpNp51"
      },
      "execution_count": null,
      "outputs": []
    },
    {
      "cell_type": "code",
      "source": [
        "len(train_data), len(test_data)"
      ],
      "metadata": {
        "colab": {
          "base_uri": "https://localhost:8080/"
        },
        "id": "0h-3zvZSYyDC",
        "outputId": "d023b9c5-cf90-4c07-9034-f50a492bf45a"
      },
      "execution_count": null,
      "outputs": [
        {
          "output_type": "execute_result",
          "data": {
            "text/plain": [
              "(9749, 1137)"
            ]
          },
          "metadata": {},
          "execution_count": 33
        }
      ]
    },
    {
      "cell_type": "code",
      "source": [
        "test_data"
      ],
      "metadata": {
        "colab": {
          "base_uri": "https://localhost:8080/",
          "height": 424
        },
        "id": "LDjV1D1ZY3e0",
        "outputId": "d454e100-65ff-47e2-80a9-ea31a9842610"
      },
      "execution_count": null,
      "outputs": [
        {
          "output_type": "execute_result",
          "data": {
            "text/plain": [
              "                 datetime  season  holiday  workingday  weather   temp  \\\n",
              "396   2011-01-18 12:00:00       1        0           1        2   8.20   \n",
              "397   2011-01-18 13:00:00       1        0           1        2   8.20   \n",
              "398   2011-01-18 14:00:00       1        0           1        2   9.02   \n",
              "399   2011-01-18 15:00:00       1        0           1        2   9.02   \n",
              "400   2011-01-18 16:00:00       1        0           1        2   9.02   \n",
              "...                   ...     ...      ...         ...      ...    ...   \n",
              "10881 2012-12-19 19:00:00       4        0           1        1  15.58   \n",
              "10882 2012-12-19 20:00:00       4        0           1        1  14.76   \n",
              "10883 2012-12-19 21:00:00       4        0           1        1  13.94   \n",
              "10884 2012-12-19 22:00:00       4        0           1        1  13.94   \n",
              "10885 2012-12-19 23:00:00       4        0           1        1  13.12   \n",
              "\n",
              "        atemp  humidity  windspeed  casual  registered  count  hour  \\\n",
              "396     9.090        86    22.0028       0           3      3    12   \n",
              "397     9.850        86    15.0013       0          22     22    13   \n",
              "398    11.365        80    11.0014       2          26     28    14   \n",
              "399    11.365        87    11.0014       3          32     35    15   \n",
              "400    11.365        87    12.9980       0          61     61    16   \n",
              "...       ...       ...        ...     ...         ...    ...   ...   \n",
              "10881  19.695        50    26.0027       7         329    336    19   \n",
              "10882  17.425        57    15.0013      10         231    241    20   \n",
              "10883  15.910        61    15.0013       4         164    168    21   \n",
              "10884  17.425        61     6.0032      12         117    129    22   \n",
              "10885  16.665        66     8.9981       4          84     88    23   \n",
              "\n",
              "       day_of_week  month  year  \n",
              "396              1      1  2011  \n",
              "397              1      1  2011  \n",
              "398              1      1  2011  \n",
              "399              1      1  2011  \n",
              "400              1      1  2011  \n",
              "...            ...    ...   ...  \n",
              "10881            2     12  2012  \n",
              "10882            2     12  2012  \n",
              "10883            2     12  2012  \n",
              "10884            2     12  2012  \n",
              "10885            2     12  2012  \n",
              "\n",
              "[1137 rows x 16 columns]"
            ],
            "text/html": [
              "\n",
              "  <div id=\"df-1fcb08f4-e535-45cc-88fc-e96fee07893d\">\n",
              "    <div class=\"colab-df-container\">\n",
              "      <div>\n",
              "<style scoped>\n",
              "    .dataframe tbody tr th:only-of-type {\n",
              "        vertical-align: middle;\n",
              "    }\n",
              "\n",
              "    .dataframe tbody tr th {\n",
              "        vertical-align: top;\n",
              "    }\n",
              "\n",
              "    .dataframe thead th {\n",
              "        text-align: right;\n",
              "    }\n",
              "</style>\n",
              "<table border=\"1\" class=\"dataframe\">\n",
              "  <thead>\n",
              "    <tr style=\"text-align: right;\">\n",
              "      <th></th>\n",
              "      <th>datetime</th>\n",
              "      <th>season</th>\n",
              "      <th>holiday</th>\n",
              "      <th>workingday</th>\n",
              "      <th>weather</th>\n",
              "      <th>temp</th>\n",
              "      <th>atemp</th>\n",
              "      <th>humidity</th>\n",
              "      <th>windspeed</th>\n",
              "      <th>casual</th>\n",
              "      <th>registered</th>\n",
              "      <th>count</th>\n",
              "      <th>hour</th>\n",
              "      <th>day_of_week</th>\n",
              "      <th>month</th>\n",
              "      <th>year</th>\n",
              "    </tr>\n",
              "  </thead>\n",
              "  <tbody>\n",
              "    <tr>\n",
              "      <th>396</th>\n",
              "      <td>2011-01-18 12:00:00</td>\n",
              "      <td>1</td>\n",
              "      <td>0</td>\n",
              "      <td>1</td>\n",
              "      <td>2</td>\n",
              "      <td>8.20</td>\n",
              "      <td>9.090</td>\n",
              "      <td>86</td>\n",
              "      <td>22.0028</td>\n",
              "      <td>0</td>\n",
              "      <td>3</td>\n",
              "      <td>3</td>\n",
              "      <td>12</td>\n",
              "      <td>1</td>\n",
              "      <td>1</td>\n",
              "      <td>2011</td>\n",
              "    </tr>\n",
              "    <tr>\n",
              "      <th>397</th>\n",
              "      <td>2011-01-18 13:00:00</td>\n",
              "      <td>1</td>\n",
              "      <td>0</td>\n",
              "      <td>1</td>\n",
              "      <td>2</td>\n",
              "      <td>8.20</td>\n",
              "      <td>9.850</td>\n",
              "      <td>86</td>\n",
              "      <td>15.0013</td>\n",
              "      <td>0</td>\n",
              "      <td>22</td>\n",
              "      <td>22</td>\n",
              "      <td>13</td>\n",
              "      <td>1</td>\n",
              "      <td>1</td>\n",
              "      <td>2011</td>\n",
              "    </tr>\n",
              "    <tr>\n",
              "      <th>398</th>\n",
              "      <td>2011-01-18 14:00:00</td>\n",
              "      <td>1</td>\n",
              "      <td>0</td>\n",
              "      <td>1</td>\n",
              "      <td>2</td>\n",
              "      <td>9.02</td>\n",
              "      <td>11.365</td>\n",
              "      <td>80</td>\n",
              "      <td>11.0014</td>\n",
              "      <td>2</td>\n",
              "      <td>26</td>\n",
              "      <td>28</td>\n",
              "      <td>14</td>\n",
              "      <td>1</td>\n",
              "      <td>1</td>\n",
              "      <td>2011</td>\n",
              "    </tr>\n",
              "    <tr>\n",
              "      <th>399</th>\n",
              "      <td>2011-01-18 15:00:00</td>\n",
              "      <td>1</td>\n",
              "      <td>0</td>\n",
              "      <td>1</td>\n",
              "      <td>2</td>\n",
              "      <td>9.02</td>\n",
              "      <td>11.365</td>\n",
              "      <td>87</td>\n",
              "      <td>11.0014</td>\n",
              "      <td>3</td>\n",
              "      <td>32</td>\n",
              "      <td>35</td>\n",
              "      <td>15</td>\n",
              "      <td>1</td>\n",
              "      <td>1</td>\n",
              "      <td>2011</td>\n",
              "    </tr>\n",
              "    <tr>\n",
              "      <th>400</th>\n",
              "      <td>2011-01-18 16:00:00</td>\n",
              "      <td>1</td>\n",
              "      <td>0</td>\n",
              "      <td>1</td>\n",
              "      <td>2</td>\n",
              "      <td>9.02</td>\n",
              "      <td>11.365</td>\n",
              "      <td>87</td>\n",
              "      <td>12.9980</td>\n",
              "      <td>0</td>\n",
              "      <td>61</td>\n",
              "      <td>61</td>\n",
              "      <td>16</td>\n",
              "      <td>1</td>\n",
              "      <td>1</td>\n",
              "      <td>2011</td>\n",
              "    </tr>\n",
              "    <tr>\n",
              "      <th>...</th>\n",
              "      <td>...</td>\n",
              "      <td>...</td>\n",
              "      <td>...</td>\n",
              "      <td>...</td>\n",
              "      <td>...</td>\n",
              "      <td>...</td>\n",
              "      <td>...</td>\n",
              "      <td>...</td>\n",
              "      <td>...</td>\n",
              "      <td>...</td>\n",
              "      <td>...</td>\n",
              "      <td>...</td>\n",
              "      <td>...</td>\n",
              "      <td>...</td>\n",
              "      <td>...</td>\n",
              "      <td>...</td>\n",
              "    </tr>\n",
              "    <tr>\n",
              "      <th>10881</th>\n",
              "      <td>2012-12-19 19:00:00</td>\n",
              "      <td>4</td>\n",
              "      <td>0</td>\n",
              "      <td>1</td>\n",
              "      <td>1</td>\n",
              "      <td>15.58</td>\n",
              "      <td>19.695</td>\n",
              "      <td>50</td>\n",
              "      <td>26.0027</td>\n",
              "      <td>7</td>\n",
              "      <td>329</td>\n",
              "      <td>336</td>\n",
              "      <td>19</td>\n",
              "      <td>2</td>\n",
              "      <td>12</td>\n",
              "      <td>2012</td>\n",
              "    </tr>\n",
              "    <tr>\n",
              "      <th>10882</th>\n",
              "      <td>2012-12-19 20:00:00</td>\n",
              "      <td>4</td>\n",
              "      <td>0</td>\n",
              "      <td>1</td>\n",
              "      <td>1</td>\n",
              "      <td>14.76</td>\n",
              "      <td>17.425</td>\n",
              "      <td>57</td>\n",
              "      <td>15.0013</td>\n",
              "      <td>10</td>\n",
              "      <td>231</td>\n",
              "      <td>241</td>\n",
              "      <td>20</td>\n",
              "      <td>2</td>\n",
              "      <td>12</td>\n",
              "      <td>2012</td>\n",
              "    </tr>\n",
              "    <tr>\n",
              "      <th>10883</th>\n",
              "      <td>2012-12-19 21:00:00</td>\n",
              "      <td>4</td>\n",
              "      <td>0</td>\n",
              "      <td>1</td>\n",
              "      <td>1</td>\n",
              "      <td>13.94</td>\n",
              "      <td>15.910</td>\n",
              "      <td>61</td>\n",
              "      <td>15.0013</td>\n",
              "      <td>4</td>\n",
              "      <td>164</td>\n",
              "      <td>168</td>\n",
              "      <td>21</td>\n",
              "      <td>2</td>\n",
              "      <td>12</td>\n",
              "      <td>2012</td>\n",
              "    </tr>\n",
              "    <tr>\n",
              "      <th>10884</th>\n",
              "      <td>2012-12-19 22:00:00</td>\n",
              "      <td>4</td>\n",
              "      <td>0</td>\n",
              "      <td>1</td>\n",
              "      <td>1</td>\n",
              "      <td>13.94</td>\n",
              "      <td>17.425</td>\n",
              "      <td>61</td>\n",
              "      <td>6.0032</td>\n",
              "      <td>12</td>\n",
              "      <td>117</td>\n",
              "      <td>129</td>\n",
              "      <td>22</td>\n",
              "      <td>2</td>\n",
              "      <td>12</td>\n",
              "      <td>2012</td>\n",
              "    </tr>\n",
              "    <tr>\n",
              "      <th>10885</th>\n",
              "      <td>2012-12-19 23:00:00</td>\n",
              "      <td>4</td>\n",
              "      <td>0</td>\n",
              "      <td>1</td>\n",
              "      <td>1</td>\n",
              "      <td>13.12</td>\n",
              "      <td>16.665</td>\n",
              "      <td>66</td>\n",
              "      <td>8.9981</td>\n",
              "      <td>4</td>\n",
              "      <td>84</td>\n",
              "      <td>88</td>\n",
              "      <td>23</td>\n",
              "      <td>2</td>\n",
              "      <td>12</td>\n",
              "      <td>2012</td>\n",
              "    </tr>\n",
              "  </tbody>\n",
              "</table>\n",
              "<p>1137 rows × 16 columns</p>\n",
              "</div>\n",
              "      <button class=\"colab-df-convert\" onclick=\"convertToInteractive('df-1fcb08f4-e535-45cc-88fc-e96fee07893d')\"\n",
              "              title=\"Convert this dataframe to an interactive table.\"\n",
              "              style=\"display:none;\">\n",
              "        \n",
              "  <svg xmlns=\"http://www.w3.org/2000/svg\" height=\"24px\"viewBox=\"0 0 24 24\"\n",
              "       width=\"24px\">\n",
              "    <path d=\"M0 0h24v24H0V0z\" fill=\"none\"/>\n",
              "    <path d=\"M18.56 5.44l.94 2.06.94-2.06 2.06-.94-2.06-.94-.94-2.06-.94 2.06-2.06.94zm-11 1L8.5 8.5l.94-2.06 2.06-.94-2.06-.94L8.5 2.5l-.94 2.06-2.06.94zm10 10l.94 2.06.94-2.06 2.06-.94-2.06-.94-.94-2.06-.94 2.06-2.06.94z\"/><path d=\"M17.41 7.96l-1.37-1.37c-.4-.4-.92-.59-1.43-.59-.52 0-1.04.2-1.43.59L10.3 9.45l-7.72 7.72c-.78.78-.78 2.05 0 2.83L4 21.41c.39.39.9.59 1.41.59.51 0 1.02-.2 1.41-.59l7.78-7.78 2.81-2.81c.8-.78.8-2.07 0-2.86zM5.41 20L4 18.59l7.72-7.72 1.47 1.35L5.41 20z\"/>\n",
              "  </svg>\n",
              "      </button>\n",
              "      \n",
              "  <style>\n",
              "    .colab-df-container {\n",
              "      display:flex;\n",
              "      flex-wrap:wrap;\n",
              "      gap: 12px;\n",
              "    }\n",
              "\n",
              "    .colab-df-convert {\n",
              "      background-color: #E8F0FE;\n",
              "      border: none;\n",
              "      border-radius: 50%;\n",
              "      cursor: pointer;\n",
              "      display: none;\n",
              "      fill: #1967D2;\n",
              "      height: 32px;\n",
              "      padding: 0 0 0 0;\n",
              "      width: 32px;\n",
              "    }\n",
              "\n",
              "    .colab-df-convert:hover {\n",
              "      background-color: #E2EBFA;\n",
              "      box-shadow: 0px 1px 2px rgba(60, 64, 67, 0.3), 0px 1px 3px 1px rgba(60, 64, 67, 0.15);\n",
              "      fill: #174EA6;\n",
              "    }\n",
              "\n",
              "    [theme=dark] .colab-df-convert {\n",
              "      background-color: #3B4455;\n",
              "      fill: #D2E3FC;\n",
              "    }\n",
              "\n",
              "    [theme=dark] .colab-df-convert:hover {\n",
              "      background-color: #434B5C;\n",
              "      box-shadow: 0px 1px 3px 1px rgba(0, 0, 0, 0.15);\n",
              "      filter: drop-shadow(0px 1px 2px rgba(0, 0, 0, 0.3));\n",
              "      fill: #FFFFFF;\n",
              "    }\n",
              "  </style>\n",
              "\n",
              "      <script>\n",
              "        const buttonEl =\n",
              "          document.querySelector('#df-1fcb08f4-e535-45cc-88fc-e96fee07893d button.colab-df-convert');\n",
              "        buttonEl.style.display =\n",
              "          google.colab.kernel.accessAllowed ? 'block' : 'none';\n",
              "\n",
              "        async function convertToInteractive(key) {\n",
              "          const element = document.querySelector('#df-1fcb08f4-e535-45cc-88fc-e96fee07893d');\n",
              "          const dataTable =\n",
              "            await google.colab.kernel.invokeFunction('convertToInteractive',\n",
              "                                                     [key], {});\n",
              "          if (!dataTable) return;\n",
              "\n",
              "          const docLinkHtml = 'Like what you see? Visit the ' +\n",
              "            '<a target=\"_blank\" href=https://colab.research.google.com/notebooks/data_table.ipynb>data table notebook</a>'\n",
              "            + ' to learn more about interactive tables.';\n",
              "          element.innerHTML = '';\n",
              "          dataTable['output_type'] = 'display_data';\n",
              "          await google.colab.output.renderOutput(dataTable, element);\n",
              "          const docLink = document.createElement('div');\n",
              "          docLink.innerHTML = docLinkHtml;\n",
              "          element.appendChild(docLink);\n",
              "        }\n",
              "      </script>\n",
              "    </div>\n",
              "  </div>\n",
              "  "
            ]
          },
          "metadata": {},
          "execution_count": 35
        }
      ]
    },
    {
      "cell_type": "markdown",
      "source": [
        "## Create DateTime Features"
      ],
      "metadata": {
        "id": "wsufKmpJEVuB"
      }
    },
    {
      "cell_type": "code",
      "source": [
        "# Preprocess the training dataset (e.g., converting dates, extracting features, etc.)\n",
        "train_data = train_data.copy()  # Create a copy of the DataFrame\n",
        "train_data[\"datetime\"] = pd.to_datetime(train_data[\"datetime\"])\n",
        "train_data[\"hour\"] = train_data[\"datetime\"].dt.hour\n",
        "train_data[\"day_of_week\"] = train_data[\"datetime\"].dt.dayofweek\n",
        "train_data[\"month\"] = train_data[\"datetime\"].dt.month\n",
        "train_data[\"year\"] = train_data[\"datetime\"].dt.year\n",
        "\n",
        "# Preprocess the testing dataset (e.g., converting dates, extracting features, etc.)\n",
        "test_data = test_data.copy()  # Create a copy of the DataFrame\n",
        "test_data[\"datetime\"] = pd.to_datetime(test_data[\"datetime\"])\n",
        "test_data[\"hour\"] = test_data[\"datetime\"].dt.hour\n",
        "test_data[\"day_of_week\"] = test_data[\"datetime\"].dt.dayofweek\n",
        "test_data[\"month\"] = test_data[\"datetime\"].dt.month\n",
        "test_data[\"year\"] = test_data[\"datetime\"].dt.year"
      ],
      "metadata": {
        "id": "sYb8MoYEEP0_"
      },
      "execution_count": null,
      "outputs": []
    },
    {
      "cell_type": "code",
      "source": [
        "train_data.isna().sum(), test_data.isna().sum()"
      ],
      "metadata": {
        "colab": {
          "base_uri": "https://localhost:8080/"
        },
        "id": "chVOR2tMEcTg",
        "outputId": "483d5f1e-6cfb-4ea5-fc9f-c626820ea54e"
      },
      "execution_count": null,
      "outputs": [
        {
          "output_type": "execute_result",
          "data": {
            "text/plain": [
              "(datetime       0\n",
              " season         0\n",
              " holiday        0\n",
              " workingday     0\n",
              " weather        0\n",
              " temp           0\n",
              " atemp          0\n",
              " humidity       0\n",
              " windspeed      0\n",
              " casual         0\n",
              " registered     0\n",
              " count          0\n",
              " hour           0\n",
              " day_of_week    0\n",
              " month          0\n",
              " year           0\n",
              " dtype: int64,\n",
              " datetime       0\n",
              " season         0\n",
              " holiday        0\n",
              " workingday     0\n",
              " weather        0\n",
              " temp           0\n",
              " atemp          0\n",
              " humidity       0\n",
              " windspeed      0\n",
              " casual         0\n",
              " registered     0\n",
              " count          0\n",
              " hour           0\n",
              " day_of_week    0\n",
              " month          0\n",
              " year           0\n",
              " dtype: int64)"
            ]
          },
          "metadata": {},
          "execution_count": 37
        }
      ]
    },
    {
      "cell_type": "code",
      "source": [
        "target = train_data[\"count\"]"
      ],
      "metadata": {
        "id": "iz4dv_TrGHDo"
      },
      "execution_count": null,
      "outputs": []
    },
    {
      "cell_type": "code",
      "source": [
        "# Define the features and target variable for testing data\n",
        "features = train_data.drop([\"datetime\", \"count\"], axis=1).columns\n"
      ],
      "metadata": {
        "id": "z_lL4W_sGLls"
      },
      "execution_count": null,
      "outputs": []
    },
    {
      "cell_type": "code",
      "source": [
        "features"
      ],
      "metadata": {
        "colab": {
          "base_uri": "https://localhost:8080/"
        },
        "id": "u-EPRyDnZVUb",
        "outputId": "4759da85-b709-457c-af4f-bca4c258b6c0"
      },
      "execution_count": null,
      "outputs": [
        {
          "output_type": "execute_result",
          "data": {
            "text/plain": [
              "Index(['season', 'holiday', 'workingday', 'weather', 'temp', 'atemp',\n",
              "       'humidity', 'windspeed', 'casual', 'registered', 'hour', 'day_of_week',\n",
              "       'month', 'year'],\n",
              "      dtype='object')"
            ]
          },
          "metadata": {},
          "execution_count": 40
        }
      ]
    },
    {
      "cell_type": "markdown",
      "source": [
        "\n",
        " ## Categorical Feature Handling"
      ],
      "metadata": {
        "id": "cjyJYyxc-1m8"
      }
    },
    {
      "cell_type": "code",
      "source": [
        "# One-Hot Encoding for categorical features\n",
        "categorical_features = [\"hour\", \"day_of_week\", \"month\", \"year\", \"season\", \"holiday\", \"workingday\", \"weather\"]\n",
        "encoder = OneHotEncoder(sparse_output=False, drop=\"first\")\n",
        "encoder.fit(train_data[categorical_features])"
      ],
      "metadata": {
        "colab": {
          "base_uri": "https://localhost:8080/",
          "height": 75
        },
        "id": "YYbwVaPbGpLN",
        "outputId": "c6a5bd0d-075e-45d6-cc17-d2b05bce4d11"
      },
      "execution_count": null,
      "outputs": [
        {
          "output_type": "execute_result",
          "data": {
            "text/plain": [
              "OneHotEncoder(drop='first', sparse_output=False)"
            ],
            "text/html": [
              "<style>#sk-container-id-1 {color: black;background-color: white;}#sk-container-id-1 pre{padding: 0;}#sk-container-id-1 div.sk-toggleable {background-color: white;}#sk-container-id-1 label.sk-toggleable__label {cursor: pointer;display: block;width: 100%;margin-bottom: 0;padding: 0.3em;box-sizing: border-box;text-align: center;}#sk-container-id-1 label.sk-toggleable__label-arrow:before {content: \"▸\";float: left;margin-right: 0.25em;color: #696969;}#sk-container-id-1 label.sk-toggleable__label-arrow:hover:before {color: black;}#sk-container-id-1 div.sk-estimator:hover label.sk-toggleable__label-arrow:before {color: black;}#sk-container-id-1 div.sk-toggleable__content {max-height: 0;max-width: 0;overflow: hidden;text-align: left;background-color: #f0f8ff;}#sk-container-id-1 div.sk-toggleable__content pre {margin: 0.2em;color: black;border-radius: 0.25em;background-color: #f0f8ff;}#sk-container-id-1 input.sk-toggleable__control:checked~div.sk-toggleable__content {max-height: 200px;max-width: 100%;overflow: auto;}#sk-container-id-1 input.sk-toggleable__control:checked~label.sk-toggleable__label-arrow:before {content: \"▾\";}#sk-container-id-1 div.sk-estimator input.sk-toggleable__control:checked~label.sk-toggleable__label {background-color: #d4ebff;}#sk-container-id-1 div.sk-label input.sk-toggleable__control:checked~label.sk-toggleable__label {background-color: #d4ebff;}#sk-container-id-1 input.sk-hidden--visually {border: 0;clip: rect(1px 1px 1px 1px);clip: rect(1px, 1px, 1px, 1px);height: 1px;margin: -1px;overflow: hidden;padding: 0;position: absolute;width: 1px;}#sk-container-id-1 div.sk-estimator {font-family: monospace;background-color: #f0f8ff;border: 1px dotted black;border-radius: 0.25em;box-sizing: border-box;margin-bottom: 0.5em;}#sk-container-id-1 div.sk-estimator:hover {background-color: #d4ebff;}#sk-container-id-1 div.sk-parallel-item::after {content: \"\";width: 100%;border-bottom: 1px solid gray;flex-grow: 1;}#sk-container-id-1 div.sk-label:hover label.sk-toggleable__label {background-color: #d4ebff;}#sk-container-id-1 div.sk-serial::before {content: \"\";position: absolute;border-left: 1px solid gray;box-sizing: border-box;top: 0;bottom: 0;left: 50%;z-index: 0;}#sk-container-id-1 div.sk-serial {display: flex;flex-direction: column;align-items: center;background-color: white;padding-right: 0.2em;padding-left: 0.2em;position: relative;}#sk-container-id-1 div.sk-item {position: relative;z-index: 1;}#sk-container-id-1 div.sk-parallel {display: flex;align-items: stretch;justify-content: center;background-color: white;position: relative;}#sk-container-id-1 div.sk-item::before, #sk-container-id-1 div.sk-parallel-item::before {content: \"\";position: absolute;border-left: 1px solid gray;box-sizing: border-box;top: 0;bottom: 0;left: 50%;z-index: -1;}#sk-container-id-1 div.sk-parallel-item {display: flex;flex-direction: column;z-index: 1;position: relative;background-color: white;}#sk-container-id-1 div.sk-parallel-item:first-child::after {align-self: flex-end;width: 50%;}#sk-container-id-1 div.sk-parallel-item:last-child::after {align-self: flex-start;width: 50%;}#sk-container-id-1 div.sk-parallel-item:only-child::after {width: 0;}#sk-container-id-1 div.sk-dashed-wrapped {border: 1px dashed gray;margin: 0 0.4em 0.5em 0.4em;box-sizing: border-box;padding-bottom: 0.4em;background-color: white;}#sk-container-id-1 div.sk-label label {font-family: monospace;font-weight: bold;display: inline-block;line-height: 1.2em;}#sk-container-id-1 div.sk-label-container {text-align: center;}#sk-container-id-1 div.sk-container {/* jupyter's `normalize.less` sets `[hidden] { display: none; }` but bootstrap.min.css set `[hidden] { display: none !important; }` so we also need the `!important` here to be able to override the default hidden behavior on the sphinx rendered scikit-learn.org. See: https://github.com/scikit-learn/scikit-learn/issues/21755 */display: inline-block !important;position: relative;}#sk-container-id-1 div.sk-text-repr-fallback {display: none;}</style><div id=\"sk-container-id-1\" class=\"sk-top-container\"><div class=\"sk-text-repr-fallback\"><pre>OneHotEncoder(drop=&#x27;first&#x27;, sparse_output=False)</pre><b>In a Jupyter environment, please rerun this cell to show the HTML representation or trust the notebook. <br />On GitHub, the HTML representation is unable to render, please try loading this page with nbviewer.org.</b></div><div class=\"sk-container\" hidden><div class=\"sk-item\"><div class=\"sk-estimator sk-toggleable\"><input class=\"sk-toggleable__control sk-hidden--visually\" id=\"sk-estimator-id-1\" type=\"checkbox\" checked><label for=\"sk-estimator-id-1\" class=\"sk-toggleable__label sk-toggleable__label-arrow\">OneHotEncoder</label><div class=\"sk-toggleable__content\"><pre>OneHotEncoder(drop=&#x27;first&#x27;, sparse_output=False)</pre></div></div></div></div></div>"
            ]
          },
          "metadata": {},
          "execution_count": 41
        }
      ]
    },
    {
      "cell_type": "code",
      "source": [
        "train_encoded = encoder.transform(train_data[categorical_features])\n",
        "train_encoded_df = pd.DataFrame(train_encoded, columns=encoder.get_feature_names_out(categorical_features))\n",
        "# Reset index before concatenating\n",
        "train_data = train_data.drop(categorical_features, axis=1).reset_index(drop=True)\n",
        "train_encoded_df = train_encoded_df.reset_index(drop=True)\n",
        "train_data = pd.concat([train_data, train_encoded_df], axis=1)"
      ],
      "metadata": {
        "id": "foYFAfYJHbb9"
      },
      "execution_count": null,
      "outputs": []
    },
    {
      "cell_type": "code",
      "source": [
        "test_encoded = encoder.transform(test_data[categorical_features])\n",
        "test_encoded_df = pd.DataFrame(test_encoded, columns=encoder.get_feature_names_out(categorical_features))\n",
        "# Reset index before concatenating\n",
        "test_data = test_data.drop(categorical_features, axis=1).reset_index(drop=True)\n",
        "test_encoded_df = test_encoded_df.reset_index(drop=True)\n",
        "test_data = pd.concat([test_data, test_encoded_df], axis=1)"
      ],
      "metadata": {
        "id": "-_pStyUMHx9O"
      },
      "execution_count": null,
      "outputs": []
    },
    {
      "cell_type": "code",
      "source": [
        "train_data.info(), test_data.info()"
      ],
      "metadata": {
        "colab": {
          "base_uri": "https://localhost:8080/"
        },
        "id": "YeMPcMjoH1Jg",
        "outputId": "5327df4c-e1a2-4a46-e086-d959fd1e3e0b"
      },
      "execution_count": null,
      "outputs": [
        {
          "output_type": "stream",
          "name": "stdout",
          "text": [
            "<class 'pandas.core.frame.DataFrame'>\n",
            "RangeIndex: 9749 entries, 0 to 9748\n",
            "Data columns (total 57 columns):\n",
            " #   Column         Non-Null Count  Dtype         \n",
            "---  ------         --------------  -----         \n",
            " 0   datetime       9749 non-null   datetime64[ns]\n",
            " 1   temp           9749 non-null   float64       \n",
            " 2   atemp          9749 non-null   float64       \n",
            " 3   humidity       9749 non-null   int64         \n",
            " 4   windspeed      9749 non-null   float64       \n",
            " 5   casual         9749 non-null   int64         \n",
            " 6   registered     9749 non-null   int64         \n",
            " 7   count          9749 non-null   int64         \n",
            " 8   hour_1         9749 non-null   float64       \n",
            " 9   hour_2         9749 non-null   float64       \n",
            " 10  hour_3         9749 non-null   float64       \n",
            " 11  hour_4         9749 non-null   float64       \n",
            " 12  hour_5         9749 non-null   float64       \n",
            " 13  hour_6         9749 non-null   float64       \n",
            " 14  hour_7         9749 non-null   float64       \n",
            " 15  hour_8         9749 non-null   float64       \n",
            " 16  hour_9         9749 non-null   float64       \n",
            " 17  hour_10        9749 non-null   float64       \n",
            " 18  hour_11        9749 non-null   float64       \n",
            " 19  hour_12        9749 non-null   float64       \n",
            " 20  hour_13        9749 non-null   float64       \n",
            " 21  hour_14        9749 non-null   float64       \n",
            " 22  hour_15        9749 non-null   float64       \n",
            " 23  hour_16        9749 non-null   float64       \n",
            " 24  hour_17        9749 non-null   float64       \n",
            " 25  hour_18        9749 non-null   float64       \n",
            " 26  hour_19        9749 non-null   float64       \n",
            " 27  hour_20        9749 non-null   float64       \n",
            " 28  hour_21        9749 non-null   float64       \n",
            " 29  hour_22        9749 non-null   float64       \n",
            " 30  hour_23        9749 non-null   float64       \n",
            " 31  day_of_week_1  9749 non-null   float64       \n",
            " 32  day_of_week_2  9749 non-null   float64       \n",
            " 33  day_of_week_3  9749 non-null   float64       \n",
            " 34  day_of_week_4  9749 non-null   float64       \n",
            " 35  day_of_week_5  9749 non-null   float64       \n",
            " 36  day_of_week_6  9749 non-null   float64       \n",
            " 37  month_2        9749 non-null   float64       \n",
            " 38  month_3        9749 non-null   float64       \n",
            " 39  month_4        9749 non-null   float64       \n",
            " 40  month_5        9749 non-null   float64       \n",
            " 41  month_6        9749 non-null   float64       \n",
            " 42  month_7        9749 non-null   float64       \n",
            " 43  month_8        9749 non-null   float64       \n",
            " 44  month_9        9749 non-null   float64       \n",
            " 45  month_10       9749 non-null   float64       \n",
            " 46  month_11       9749 non-null   float64       \n",
            " 47  month_12       9749 non-null   float64       \n",
            " 48  year_2012      9749 non-null   float64       \n",
            " 49  season_2       9749 non-null   float64       \n",
            " 50  season_3       9749 non-null   float64       \n",
            " 51  season_4       9749 non-null   float64       \n",
            " 52  holiday_1      9749 non-null   float64       \n",
            " 53  workingday_1   9749 non-null   float64       \n",
            " 54  weather_2      9749 non-null   float64       \n",
            " 55  weather_3      9749 non-null   float64       \n",
            " 56  weather_4      9749 non-null   float64       \n",
            "dtypes: datetime64[ns](1), float64(52), int64(4)\n",
            "memory usage: 4.2 MB\n",
            "<class 'pandas.core.frame.DataFrame'>\n",
            "RangeIndex: 1137 entries, 0 to 1136\n",
            "Data columns (total 57 columns):\n",
            " #   Column         Non-Null Count  Dtype         \n",
            "---  ------         --------------  -----         \n",
            " 0   datetime       1137 non-null   datetime64[ns]\n",
            " 1   temp           1137 non-null   float64       \n",
            " 2   atemp          1137 non-null   float64       \n",
            " 3   humidity       1137 non-null   int64         \n",
            " 4   windspeed      1137 non-null   float64       \n",
            " 5   casual         1137 non-null   int64         \n",
            " 6   registered     1137 non-null   int64         \n",
            " 7   count          1137 non-null   int64         \n",
            " 8   hour_1         1137 non-null   float64       \n",
            " 9   hour_2         1137 non-null   float64       \n",
            " 10  hour_3         1137 non-null   float64       \n",
            " 11  hour_4         1137 non-null   float64       \n",
            " 12  hour_5         1137 non-null   float64       \n",
            " 13  hour_6         1137 non-null   float64       \n",
            " 14  hour_7         1137 non-null   float64       \n",
            " 15  hour_8         1137 non-null   float64       \n",
            " 16  hour_9         1137 non-null   float64       \n",
            " 17  hour_10        1137 non-null   float64       \n",
            " 18  hour_11        1137 non-null   float64       \n",
            " 19  hour_12        1137 non-null   float64       \n",
            " 20  hour_13        1137 non-null   float64       \n",
            " 21  hour_14        1137 non-null   float64       \n",
            " 22  hour_15        1137 non-null   float64       \n",
            " 23  hour_16        1137 non-null   float64       \n",
            " 24  hour_17        1137 non-null   float64       \n",
            " 25  hour_18        1137 non-null   float64       \n",
            " 26  hour_19        1137 non-null   float64       \n",
            " 27  hour_20        1137 non-null   float64       \n",
            " 28  hour_21        1137 non-null   float64       \n",
            " 29  hour_22        1137 non-null   float64       \n",
            " 30  hour_23        1137 non-null   float64       \n",
            " 31  day_of_week_1  1137 non-null   float64       \n",
            " 32  day_of_week_2  1137 non-null   float64       \n",
            " 33  day_of_week_3  1137 non-null   float64       \n",
            " 34  day_of_week_4  1137 non-null   float64       \n",
            " 35  day_of_week_5  1137 non-null   float64       \n",
            " 36  day_of_week_6  1137 non-null   float64       \n",
            " 37  month_2        1137 non-null   float64       \n",
            " 38  month_3        1137 non-null   float64       \n",
            " 39  month_4        1137 non-null   float64       \n",
            " 40  month_5        1137 non-null   float64       \n",
            " 41  month_6        1137 non-null   float64       \n",
            " 42  month_7        1137 non-null   float64       \n",
            " 43  month_8        1137 non-null   float64       \n",
            " 44  month_9        1137 non-null   float64       \n",
            " 45  month_10       1137 non-null   float64       \n",
            " 46  month_11       1137 non-null   float64       \n",
            " 47  month_12       1137 non-null   float64       \n",
            " 48  year_2012      1137 non-null   float64       \n",
            " 49  season_2       1137 non-null   float64       \n",
            " 50  season_3       1137 non-null   float64       \n",
            " 51  season_4       1137 non-null   float64       \n",
            " 52  holiday_1      1137 non-null   float64       \n",
            " 53  workingday_1   1137 non-null   float64       \n",
            " 54  weather_2      1137 non-null   float64       \n",
            " 55  weather_3      1137 non-null   float64       \n",
            " 56  weather_4      1137 non-null   float64       \n",
            "dtypes: datetime64[ns](1), float64(52), int64(4)\n",
            "memory usage: 506.4 KB\n"
          ]
        },
        {
          "output_type": "execute_result",
          "data": {
            "text/plain": [
              "(None, None)"
            ]
          },
          "metadata": {},
          "execution_count": 44
        }
      ]
    },
    {
      "cell_type": "code",
      "source": [],
      "metadata": {
        "id": "F3Fhq3FQcDpN"
      },
      "execution_count": null,
      "outputs": []
    },
    {
      "cell_type": "markdown",
      "source": [
        "# Model Training"
      ],
      "metadata": {
        "id": "JnpbyYnZ-1zw"
      }
    },
    {
      "cell_type": "code",
      "source": [
        "def display_null_columns(data):\n",
        "    null_columns = data.columns[data.isnull().any()]\n",
        "    print(\"Columns with null values:\")\n",
        "    for col in null_columns:\n",
        "        print(f\"{col}: {data[col].isnull().sum()} null values\")\n"
      ],
      "metadata": {
        "id": "-j_Coh5KYCjc"
      },
      "execution_count": null,
      "outputs": []
    },
    {
      "cell_type": "code",
      "source": [
        "def display_null_rows(data):\n",
        "    null_rows = data[data.isnull().any(axis=1)]\n",
        "    print(\"Rows with null values:\")\n",
        "    print(null_rows[:5])\n"
      ],
      "metadata": {
        "id": "46JOWt7nYaq2"
      },
      "execution_count": null,
      "outputs": []
    },
    {
      "cell_type": "markdown",
      "source": [
        "Casual + Registered  = count\n",
        "\n",
        "So it would be feature leakage , remove those as well"
      ],
      "metadata": {
        "id": "UXQ9xYfy4TmT"
      }
    },
    {
      "cell_type": "code",
      "source": [
        "# Define the features and target variable for testing data\n",
        "features = train_data.drop([\"datetime\", \"count\", \"casual\", \"registered\", \"atemp\", \"season_2\", \"season_3\", \"season_4\"], axis=1).columns\n",
        "features, len(features)"
      ],
      "metadata": {
        "colab": {
          "base_uri": "https://localhost:8080/"
        },
        "id": "paJPIJNQJHUY",
        "outputId": "14d89fb4-f1af-4bc5-b60f-7ca7720ea1e8"
      },
      "execution_count": null,
      "outputs": [
        {
          "output_type": "execute_result",
          "data": {
            "text/plain": [
              "(Index(['temp', 'humidity', 'windspeed', 'hour_1', 'hour_2', 'hour_3', 'hour_4',\n",
              "        'hour_5', 'hour_6', 'hour_7', 'hour_8', 'hour_9', 'hour_10', 'hour_11',\n",
              "        'hour_12', 'hour_13', 'hour_14', 'hour_15', 'hour_16', 'hour_17',\n",
              "        'hour_18', 'hour_19', 'hour_20', 'hour_21', 'hour_22', 'hour_23',\n",
              "        'day_of_week_1', 'day_of_week_2', 'day_of_week_3', 'day_of_week_4',\n",
              "        'day_of_week_5', 'day_of_week_6', 'month_2', 'month_3', 'month_4',\n",
              "        'month_5', 'month_6', 'month_7', 'month_8', 'month_9', 'month_10',\n",
              "        'month_11', 'month_12', 'year_2012', 'holiday_1', 'workingday_1',\n",
              "        'weather_2', 'weather_3', 'weather_4'],\n",
              "       dtype='object'),\n",
              " 49)"
            ]
          },
          "metadata": {},
          "execution_count": 47
        }
      ]
    },
    {
      "cell_type": "code",
      "source": [
        "X_train = train_data[features]\n",
        "y_train = train_data[\"count\"]\n",
        "X_test = test_data[features]\n",
        "y_test = test_data[\"count\"]"
      ],
      "metadata": {
        "id": "U5WGNNVZGUVz"
      },
      "execution_count": null,
      "outputs": []
    },
    {
      "cell_type": "code",
      "source": [
        "# Train the Linear Regression model\n",
        "model = LinearRegression()\n",
        "model.fit(X_train, y_train)"
      ],
      "metadata": {
        "colab": {
          "base_uri": "https://localhost:8080/",
          "height": 75
        },
        "id": "C_JZW_giIfA9",
        "outputId": "4291183e-f4d9-4766-b4d2-4c718e89f84b"
      },
      "execution_count": null,
      "outputs": [
        {
          "output_type": "execute_result",
          "data": {
            "text/plain": [
              "LinearRegression()"
            ],
            "text/html": [
              "<style>#sk-container-id-2 {color: black;background-color: white;}#sk-container-id-2 pre{padding: 0;}#sk-container-id-2 div.sk-toggleable {background-color: white;}#sk-container-id-2 label.sk-toggleable__label {cursor: pointer;display: block;width: 100%;margin-bottom: 0;padding: 0.3em;box-sizing: border-box;text-align: center;}#sk-container-id-2 label.sk-toggleable__label-arrow:before {content: \"▸\";float: left;margin-right: 0.25em;color: #696969;}#sk-container-id-2 label.sk-toggleable__label-arrow:hover:before {color: black;}#sk-container-id-2 div.sk-estimator:hover label.sk-toggleable__label-arrow:before {color: black;}#sk-container-id-2 div.sk-toggleable__content {max-height: 0;max-width: 0;overflow: hidden;text-align: left;background-color: #f0f8ff;}#sk-container-id-2 div.sk-toggleable__content pre {margin: 0.2em;color: black;border-radius: 0.25em;background-color: #f0f8ff;}#sk-container-id-2 input.sk-toggleable__control:checked~div.sk-toggleable__content {max-height: 200px;max-width: 100%;overflow: auto;}#sk-container-id-2 input.sk-toggleable__control:checked~label.sk-toggleable__label-arrow:before {content: \"▾\";}#sk-container-id-2 div.sk-estimator input.sk-toggleable__control:checked~label.sk-toggleable__label {background-color: #d4ebff;}#sk-container-id-2 div.sk-label input.sk-toggleable__control:checked~label.sk-toggleable__label {background-color: #d4ebff;}#sk-container-id-2 input.sk-hidden--visually {border: 0;clip: rect(1px 1px 1px 1px);clip: rect(1px, 1px, 1px, 1px);height: 1px;margin: -1px;overflow: hidden;padding: 0;position: absolute;width: 1px;}#sk-container-id-2 div.sk-estimator {font-family: monospace;background-color: #f0f8ff;border: 1px dotted black;border-radius: 0.25em;box-sizing: border-box;margin-bottom: 0.5em;}#sk-container-id-2 div.sk-estimator:hover {background-color: #d4ebff;}#sk-container-id-2 div.sk-parallel-item::after {content: \"\";width: 100%;border-bottom: 1px solid gray;flex-grow: 1;}#sk-container-id-2 div.sk-label:hover label.sk-toggleable__label {background-color: #d4ebff;}#sk-container-id-2 div.sk-serial::before {content: \"\";position: absolute;border-left: 1px solid gray;box-sizing: border-box;top: 0;bottom: 0;left: 50%;z-index: 0;}#sk-container-id-2 div.sk-serial {display: flex;flex-direction: column;align-items: center;background-color: white;padding-right: 0.2em;padding-left: 0.2em;position: relative;}#sk-container-id-2 div.sk-item {position: relative;z-index: 1;}#sk-container-id-2 div.sk-parallel {display: flex;align-items: stretch;justify-content: center;background-color: white;position: relative;}#sk-container-id-2 div.sk-item::before, #sk-container-id-2 div.sk-parallel-item::before {content: \"\";position: absolute;border-left: 1px solid gray;box-sizing: border-box;top: 0;bottom: 0;left: 50%;z-index: -1;}#sk-container-id-2 div.sk-parallel-item {display: flex;flex-direction: column;z-index: 1;position: relative;background-color: white;}#sk-container-id-2 div.sk-parallel-item:first-child::after {align-self: flex-end;width: 50%;}#sk-container-id-2 div.sk-parallel-item:last-child::after {align-self: flex-start;width: 50%;}#sk-container-id-2 div.sk-parallel-item:only-child::after {width: 0;}#sk-container-id-2 div.sk-dashed-wrapped {border: 1px dashed gray;margin: 0 0.4em 0.5em 0.4em;box-sizing: border-box;padding-bottom: 0.4em;background-color: white;}#sk-container-id-2 div.sk-label label {font-family: monospace;font-weight: bold;display: inline-block;line-height: 1.2em;}#sk-container-id-2 div.sk-label-container {text-align: center;}#sk-container-id-2 div.sk-container {/* jupyter's `normalize.less` sets `[hidden] { display: none; }` but bootstrap.min.css set `[hidden] { display: none !important; }` so we also need the `!important` here to be able to override the default hidden behavior on the sphinx rendered scikit-learn.org. See: https://github.com/scikit-learn/scikit-learn/issues/21755 */display: inline-block !important;position: relative;}#sk-container-id-2 div.sk-text-repr-fallback {display: none;}</style><div id=\"sk-container-id-2\" class=\"sk-top-container\"><div class=\"sk-text-repr-fallback\"><pre>LinearRegression()</pre><b>In a Jupyter environment, please rerun this cell to show the HTML representation or trust the notebook. <br />On GitHub, the HTML representation is unable to render, please try loading this page with nbviewer.org.</b></div><div class=\"sk-container\" hidden><div class=\"sk-item\"><div class=\"sk-estimator sk-toggleable\"><input class=\"sk-toggleable__control sk-hidden--visually\" id=\"sk-estimator-id-2\" type=\"checkbox\" checked><label for=\"sk-estimator-id-2\" class=\"sk-toggleable__label sk-toggleable__label-arrow\">LinearRegression</label><div class=\"sk-toggleable__content\"><pre>LinearRegression()</pre></div></div></div></div></div>"
            ]
          },
          "metadata": {},
          "execution_count": 49
        }
      ]
    },
    {
      "cell_type": "code",
      "source": [
        "# Make predictions on the test set\n",
        "y_pred = np.maximum(0, model.predict(X_test))\n",
        "# y_pred = model.predict(X_test)"
      ],
      "metadata": {
        "id": "RzQ-jHtjJ3mK"
      },
      "execution_count": null,
      "outputs": []
    },
    {
      "cell_type": "code",
      "source": [
        "# Evaluate the model\n",
        "mse = mean_squared_error(y_test, y_pred)\n",
        "rmse = np.sqrt(mse)\n",
        "rmsle = mean_squared_log_error(y_test, y_pred)\n",
        "r2 = r2_score(y_test, y_pred)\n",
        "\n",
        "print(\"Mean Squared Error:\", mse)\n",
        "print(\"Root Mean Squared Error:\", rmse)\n",
        "print(\"Root Mean Squared Logarithmic Error:\", rmsle)\n",
        "print(\"R-squared:\", r2)"
      ],
      "metadata": {
        "colab": {
          "base_uri": "https://localhost:8080/"
        },
        "id": "Pn4M1J6KGcTy",
        "outputId": "26bf71eb-f1ea-4dba-e644-4d81e18b737f"
      },
      "execution_count": null,
      "outputs": [
        {
          "output_type": "stream",
          "name": "stdout",
          "text": [
            "Mean Squared Error: 9262.261932277166\n",
            "Root Mean Squared Error: 96.24064594690316\n",
            "Root Mean Squared Logarithmic Error: 1.1356658656576242\n",
            "R-squared: 0.7038252292060573\n"
          ]
        }
      ]
    },
    {
      "cell_type": "code",
      "source": [],
      "metadata": {
        "id": "yqpTuevZV-nR"
      },
      "execution_count": null,
      "outputs": []
    },
    {
      "cell_type": "markdown",
      "source": [
        "# Summary"
      ],
      "metadata": {
        "id": "YF3zXYQ2_SfI"
      }
    },
    {
      "cell_type": "markdown",
      "source": [
        "Best hyperparameters found: {'alpha': 1, 'solver': 'auto'}\n",
        "\n",
        "Mean Squared Error: 9602.842519361067\n",
        "\n",
        "Root Mean Squared Error: 97.9940943085912\n",
        "\n",
        "R-squared: 0.6929346521468052\n"
      ],
      "metadata": {
        "id": "ealmfAYuqU38"
      }
    }
  ]
}