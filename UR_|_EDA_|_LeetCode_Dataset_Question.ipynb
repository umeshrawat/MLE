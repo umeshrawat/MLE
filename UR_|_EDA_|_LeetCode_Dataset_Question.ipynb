{
  "nbformat": 4,
  "nbformat_minor": 0,
  "metadata": {
    "colab": {
      "provenance": [],
      "include_colab_link": true
    },
    "kernelspec": {
      "name": "python3",
      "display_name": "Python 3"
    },
    "language_info": {
      "name": "python"
    }
  },
  "cells": [
    {
      "cell_type": "markdown",
      "metadata": {
        "id": "view-in-github",
        "colab_type": "text"
      },
      "source": [
        "<a href=\"https://colab.research.google.com/github/umeshrawat/MLE/blob/master/UR_%7C_EDA_%7C_LeetCode_Dataset_Question.ipynb\" target=\"_parent\"><img src=\"https://colab.research.google.com/assets/colab-badge.svg\" alt=\"Open In Colab\"/></a>"
      ]
    },
    {
      "cell_type": "markdown",
      "source": [
        "# Please make a copy of this notebook and try solving the below questions in your notebook copy. Solutions for these will be discussed in the assignment review session on <day> post which, we will also share the solution notebook.\n",
        "\n",
        "\n",
        "# **Good Luck**"
      ],
      "metadata": {
        "id": "iUJx8XmgUi2t"
      }
    },
    {
      "cell_type": "markdown",
      "source": [
        "##LeetCode DataSet\n",
        "It contains the following info:\n",
        "\n",
        "**id**: problem id **title**: problem name\n",
        "**description**: problem description\n",
        "**is_premium**: whether the questions requires a premium account\n",
        "**difficulty**: easy, medium, or hard\n",
        "**solution_link**: how often the answer submitted is correct\n",
        "**acceptance_rate**: how often the answer submitted is correct\n",
        "**frequency**: how often the problem is attempted\n",
        "**url**: url to the problem\n",
        "**discuss_count**: how many comments are submitted by users\n",
        "**accepted**: how many times the answer was accepted\n",
        "**submissions**: how many times the answer was submitted\n",
        "**companies**: which companies were tagged as having asked this specific problem\n",
        "**related_topics**: related topics to the current problem\n",
        "**likes**: how many likes the problem got\n",
        "**dislikes**: how many dislikes the problem got\n",
        "**rating**: likes / (likes + dislikes)\n",
        "**asked_by_faang**: whether or not the question was asked by facebook, apple, amazon, google, or netflix\n",
        "**similar_questions**: similar problems with problem name, slug, and difficulty\n"
      ],
      "metadata": {
        "id": "c59oAsR5UvVT"
      }
    },
    {
      "cell_type": "code",
      "source": [
        "from google.colab import drive\n",
        "drive.mount('/content/drive')"
      ],
      "metadata": {
        "id": "W3cBgvSMvEw4"
      },
      "execution_count": null,
      "outputs": []
    },
    {
      "cell_type": "markdown",
      "source": [
        "##Question 1\n",
        "####What is the Shape of the dataset?"
      ],
      "metadata": {
        "id": "Qo2pP4EpVEvo"
      }
    },
    {
      "cell_type": "code",
      "source": [
        "import pandas as pd\n",
        "dataFrame = pd.read_csv('/content/UR_EDA/leetcode_dataset - lc.csv')\n",
        "print(dataFrame.shape)"
      ],
      "metadata": {
        "id": "4ixw2A5HUkXr",
        "colab": {
          "base_uri": "https://localhost:8080/"
        },
        "outputId": "615f3d67-2f65-426a-c0ef-43d2f66ee5d0"
      },
      "execution_count": null,
      "outputs": [
        {
          "output_type": "stream",
          "name": "stdout",
          "text": [
            "(1825, 19)\n"
          ]
        }
      ]
    },
    {
      "cell_type": "markdown",
      "source": [
        "##Question 2\n",
        "####What is the datatype of **accepted** and **acceptance rate** fields?"
      ],
      "metadata": {
        "id": "4KIYQvDMVjee"
      }
    },
    {
      "cell_type": "code",
      "source": [
        "\n",
        "dataFrame['acceptance_rate'].dtypes\n",
        "dataFrame['accepted'].dtypes"
      ],
      "metadata": {
        "id": "zfI_d7C7V_iB",
        "colab": {
          "base_uri": "https://localhost:8080/"
        },
        "outputId": "6ef8e75d-5ca6-4756-a25a-0cb2a555b6ca"
      },
      "execution_count": null,
      "outputs": [
        {
          "output_type": "execute_result",
          "data": {
            "text/plain": [
              "dtype('O')"
            ]
          },
          "metadata": {},
          "execution_count": 12
        }
      ]
    },
    {
      "cell_type": "markdown",
      "source": [
        "##Question 3\n",
        "####What is the number of missing values correponsing to each field?"
      ],
      "metadata": {
        "id": "8R5lD2l6WE2C"
      }
    },
    {
      "cell_type": "code",
      "source": [
        "#Solution 3(your code here)"
      ],
      "metadata": {
        "id": "RGucL-g_WRVr"
      },
      "execution_count": null,
      "outputs": []
    },
    {
      "cell_type": "markdown",
      "source": [
        "##Question 4\n",
        "####What is the cardinality of the columns?"
      ],
      "metadata": {
        "id": "_vT2mNEXWS9n"
      }
    },
    {
      "cell_type": "code",
      "source": [
        "#Solution 4(your code here)"
      ],
      "metadata": {
        "id": "qGt2z5gLWtgr"
      },
      "execution_count": null,
      "outputs": []
    },
    {
      "cell_type": "markdown",
      "source": [
        "##Question 5\n",
        "####Give 2 inferences from the .describe() of the dataset."
      ],
      "metadata": {
        "id": "JOsMt4lFWuye"
      }
    },
    {
      "cell_type": "code",
      "source": [
        "#Solution 5(your code here)"
      ],
      "metadata": {
        "id": "Nmi_L7QjXEA-"
      },
      "execution_count": null,
      "outputs": []
    },
    {
      "cell_type": "markdown",
      "source": [
        "##Question 6\n",
        "####Plot the outliners in the dataset."
      ],
      "metadata": {
        "id": "T6kMonATZW4F"
      }
    },
    {
      "cell_type": "code",
      "source": [
        "#Solution 6(your code here)"
      ],
      "metadata": {
        "id": "3h_BJszyZXK3"
      },
      "execution_count": null,
      "outputs": []
    },
    {
      "cell_type": "markdown",
      "source": [
        "##Question 7\n",
        "####**is_premium**, **difficulty** , **rating** and **asked_by_faang** are four important parameters in the dataset. Plot/calculate all possible relation between them and explain the relationship."
      ],
      "metadata": {
        "id": "CgnQi-IDXYsJ"
      }
    },
    {
      "cell_type": "code",
      "source": [
        "#Solution 7(your code here)"
      ],
      "metadata": {
        "id": "-02ErXn-YFUn"
      },
      "execution_count": null,
      "outputs": []
    },
    {
      "cell_type": "markdown",
      "source": [
        "##Question 8\n",
        "####Plot top 20 companies whose problems are listed in this dataset."
      ],
      "metadata": {
        "id": "ZrXsAa5_YSTk"
      }
    },
    {
      "cell_type": "code",
      "source": [
        "#Solution 8(your code here)"
      ],
      "metadata": {
        "id": "irSkjnXgYsiT"
      },
      "execution_count": null,
      "outputs": []
    }
  ]
}